{
 "cells": [
  {
   "cell_type": "markdown",
   "source": [
    "# Angular acceptance of the decay products"
   ],
   "metadata": {}
  },
  {
   "cell_type": "markdown",
   "source": [
    "## Import ROOT and LHEF libraries"
   ],
   "metadata": {}
  },
  {
   "cell_type": "code",
   "execution_count": 2,
   "source": [
    "import csv\n",
    "import os\n",
    "import random\n",
    "import sys\n",
    "import numpy as np\n",
    "import ROOT as r\n",
    "import matplotlib.pyplot as plt\n",
    "r.gROOT.ProcessLine(\".include /Users/isaac/Work/MG5_aMC_v3_1_0\")\n",
    "r.gInterpreter.Declare(\n",
    "    '#include \"/Users/isaac/Work/MG5_aMC_v3_1_0/ExRootAnalysis/\\\n",
    "ExRootAnalysis/ExRootTreeReader.h\"'\n",
    ")\n",
    "r.gInterpreter.Declare(\n",
    "    '#include \"/Users/isaac/Work/MG5_aMC_v3_1_0/\\\n",
    "ExRootAnalysis/ExRootAnalysis/ExRootClasses.h\"'\n",
    ")\n",
    "r.gInterpreter.Declare(\n",
    "    '#include \"/Users/isaac/Work/MG5_aMC_v3_1_0/ExRootAnalysis/\\\n",
    "ExRootAnalysis/ExRootLHEFReader.h\"'\n",
    ")\n",
    "r.gSystem.Load(\n",
    "    \"/Users/isaac/Work/MG5_aMC_v3_1_0/\\\n",
    "ExRootAnalysis/libExRootAnalysis.so\"\n",
    ")\n",
    "os.environ[\"TERM\"] = \"linux\"\n",
    "random.seed(1)\n"
   ],
   "outputs": [
    {
     "output_type": "stream",
     "name": "stdout",
     "text": [
      "Welcome to JupyROOT 6.22/09\n"
     ]
    }
   ],
   "metadata": {}
  },
  {
   "cell_type": "markdown",
   "source": [
    "## Extract dark photon data\n",
    "\n",
    "Here I extract the energy, momentum and $\\theta$ of the dark photon. Given that reading rootfile is slow, I'll store the data list here for further use. After getting the data list, rootfile is no longer needed."
   ],
   "metadata": {}
  },
  {
   "cell_type": "code",
   "execution_count": 9,
   "source": [
    "chain = r.TChain(\"LHEF\")\n",
    "chain.Add(\"~/Work/MUonE/MG5_events/100mev/Events/run_01/unweighted_events.root\")\n",
    "X_list = []\n",
    "for event in chain:\n",
    "    for particle in event.Particle:\n",
    "        if particle.PID == 103:\n",
    "            E_X = particle.E\n",
    "            p_X = np.sqrt(particle.E**2 - particle.M**2)\n",
    "            X_vector = r.TLorentzVector()\n",
    "            X_vector.SetPtEtaPhiM(particle.PT, particle.Eta, particle.Phi, particle.M)\n",
    "            theta_X = X_vector.Theta()\n",
    "    X_list.append([E_X, p_X, theta_X])"
   ],
   "outputs": [],
   "metadata": {}
  },
  {
   "cell_type": "markdown",
   "source": [
    "## Generate the angle of decay products\n",
    "\n",
    "In the rest frame, the decay product should have $\\phi$ and $\\cos \\theta$ is uniformly distributed. We can generate the number simply by taking use of the random number generator.\n",
    "\n",
    "Further, the two final state particles must distribute on the different \"side\" of the dark photon. Let's put the dark photon at $x=0$, $y>0$ plane while define the main axis is $x=y=0$. The dark photon is called to be \"going up\". One of the final state electron/positron must go further up than the dark photon, while the other must below the dark photon (the latter one may still be \"up\" compared to the main axis, but must be \"down\" compared to the dark photon). It's always easier for the upper one to escape from the angular acceptance. Thus, we can just focus on the upper one.\n",
    "\n",
    "We define the upper one to have the $\\theta$ with the dark photon trajectory, and rotate $\\phi$ angle with respect to the dark photon trajectory (regard the trajectory as axis!). $\\phi=0$ means that this particle to be along the $yz$ plane. This is \"upper one\", so this angle vary from $-\\frac{\\pi}{2}$ to $\\frac{\\pi}{2}$. $\\theta$ should vary from $0$ to $\\pi$, where $0$ means the same direction along the dark photon.\n",
    "\n",
    "Boost changes the $\\theta$ into the lab frame while leaving $\\phi$ unchanged. Note that this $\\phi$ is not the angle to rotate along z-axis! But since $\\theta_A$ and $\\theta$ are both small, we can take the approximation that the $\\phi$ w.r.t dark photon axis equals to that w.r.t z-axis."
   ],
   "metadata": {}
  },
  {
   "cell_type": "markdown",
   "source": [
    "## Generate the decay length\n",
    "\n",
    "The decay length of the dark photon is given by (eq 11)\n",
    "$$\n",
    "d_{A^\\prime}=\\frac{p_{A^\\prime}}{m_{A^\\prime} \\Gamma_{A^\\prime}}\n",
    "$$\n",
    "where the $p$ is momentum, $m$ is mass and $\\Gamma$ is the decay rate (eq 10).\n",
    "\n",
    "The differential probability for the dark photon to decay at distance $(x, x+dx)$ is\n",
    "$$\n",
    "\\frac{dP(x)}{dx} = \\frac{1}{d_{A^\\prime}} \\exp{\\left (-\\frac{x}{d_{A^\\prime}}\\right)}\n",
    "$$"
   ],
   "metadata": {}
  },
  {
   "cell_type": "markdown",
   "source": [
    "## Geometry on the detector plane\n",
    "\n",
    "![Geometry](./geometry.png)\n",
    "\n",
    "Suppose that is a circle with radius $r$. As shown in the image, the dark photon, if not decay, will hit the point B. This dark photon actually decay at point A, and the upper product hits point C on the detector. The angle $\\phi$ in the image, is the angle between $BC$ and the vertical radius. This is very close to the azimuthal angle in the dark photon rest frame when calculate the decay process, given that the $\\theta_e$ is very small.\n",
    "\n",
    "The distances are got from the following:\n",
    "- $AB$: this is similar to $AC$, equals to the total distance $OB \\simeq 1 \\rm m$ minus the dark photon decay distance $OA$.\n",
    "- $BC$: Given by $AB \\times \\theta_e$.\n",
    "- $BD$: the vertical distance, given as $OD \\times \\theta_A$.\n",
    "- Upper limit of $BC$: this should be the distance from $B$ to the edge of the circle along $BC$, playing the role as the upper bound for the angular acceptance. This is given by\n",
    "  $$\n",
    "    \\frac{\\sin (\\phi - \\alpha)}{\\sin(\\phi)}r\n",
    "  $$\n",
    "  where $\\sin \\alpha = \\frac{BD}{r}\\sin \\phi$"
   ],
   "metadata": {}
  },
  {
   "cell_type": "markdown",
   "source": [
    "## Boost of the particle\n",
    "\n",
    "We focus on the \"upper\" product. Define all the angles as discussed above. The $\\theta_{elab}$ in the lab frame should satisfy\n",
    "$$\n",
    "\\cos \\theta_{elab} = \\frac{\\gamma (p_{com} \\cos \\theta_e + \\beta \\frac{1}{2}m_{A^\\prime})}{\\sqrt{p_{com}^2 \\sin^2 \\theta_e + \\gamma^2 (p_{com} \\cos \\theta + \\beta \\frac{1}{2}m_{A^\\prime})^2}}\n",
    "$$\n",
    "where the $\\gamma = E_{A^\\prime}/m_{A^\\prime}$ and $\\beta=p_{A^\\prime}/E_{A^\\prime}$ are the boost factors. The $p_{com} = \\frac{1}{2}\\sqrt{m_{A^\\prime}^2 - 4m_e^2}$ is the 3-momentum of the decay product in the rest frame. $\\theta_e$ is nothing but the $\\theta$ angle of the decay product in the rest frame."
   ],
   "metadata": {}
  },
  {
   "cell_type": "code",
   "execution_count": 3,
   "source": [
    "# Basic quantites and functions\n",
    "luminosity = 1.5e04\n",
    "m_e = 5.11e-04\n",
    "meter = 1.0\n",
    "GeV = 1 / (1.97 * meter * 1.0e-16)\n",
    "Radius = 0.05\n",
    "\n",
    "angle_cut = 1.0 / 1000.0  # input mrad, change to rad\n",
    "L_min = 0.02\n",
    "L_max = 14.5 / 100.0  # input cm, change to m\n",
    "\n",
    "def decay_rate(mass, g_e):\n",
    "    # the \\Gamma, eq 10\n",
    "    alpha_e = (g_e ** 2) / (4 * np.pi)\n",
    "    return (\n",
    "        alpha_e\n",
    "        * mass\n",
    "        * (1 + 2 * ((m_e ** 2) / (mass ** 2)))\n",
    "        * np.sqrt(1 - 4 * ((m_e ** 2) / (mass ** 2)))\n",
    "        * GeV\n",
    "        / 3\n",
    "    )\n",
    "\n",
    "\n",
    "def distance(momentum, mass, g_e):\n",
    "    # the d_{A^\\prime}, eq 11\n",
    "    return momentum / (decay_rate(mass, g_e) * mass)\n",
    "\n",
    "def boost(theta, mass, energy):\n",
    "    beta = np.sqrt(energy**2.0 - mass**2.0)/energy\n",
    "    gamma = energy/mass\n",
    "    pcom = np.sqrt(mass**2.0 - 4.0 * (m_e ** 2.0))/2.0\n",
    "    nominator = gamma * (pcom * np.cos(theta) + beta * mass / 2.0)\n",
    "    denominator = np.sqrt((pcom**2.0) * (np.sin(theta)**2.0) + (gamma**2.0)*((pcom * np.cos(theta) + beta * mass * 0.5)**2.0))\n",
    "    return nominator/denominator"
   ],
   "outputs": [],
   "metadata": {}
  },
  {
   "cell_type": "code",
   "execution_count": 77,
   "source": [
    "# Angular acceptance in the trackers (not in the ECAL)\n",
    "good_photon_number = 0\n",
    "good_decay_number = 0\n",
    "for i in range(10000):\n",
    "    E_X = X_list[i][0]\n",
    "    p_X = X_list[i][1]\n",
    "    theta_X = X_list[i][2]\n",
    "    # generate decay distance\n",
    "    d_A = np.random.exponential(scale=distance(p_X, 0.002, 1.0e-04)) # take an example of g_e=1e-4\n",
    "    # Add angular acceptance cut on the dark photon. At least the dark photon itself should be inside the angular acceptance.\n",
    "    if(1.0 * theta_X <= Radius and L_min <= d_A <= L_max):\n",
    "        good_photon_number += 1\n",
    "        # generate decay angle\n",
    "        theta_e = np.arccos(np.random.uniform(-1.0, 1.0))\n",
    "        phi_e = np.random.uniform(- np.pi*0.5, np.pi*0.5)\n",
    "        theta_elab = np.arccos(boost(theta_e, 0.002, E_X))\n",
    "        AB = 1.0 - d_A\n",
    "        BC = AB * theta_elab\n",
    "        BD = 1.0 * theta_X\n",
    "        sin_alpha = np.sin(phi_e) * BD/Radius\n",
    "        alpha = np.arcsin(sin_alpha)\n",
    "        BCmax = Radius * (np.sin(phi_e - alpha)/np.sin(phi_e))\n",
    "        if BC <= BCmax:\n",
    "            good_decay_number += 1\n",
    "\n",
    "\n",
    "print(good_photon_number) # This is the number normalized with 10000 events\n",
    "print(good_decay_number)"
   ],
   "outputs": [
    {
     "output_type": "stream",
     "name": "stdout",
     "text": [
      "166\n",
      "166\n"
     ]
    }
   ],
   "metadata": {}
  },
  {
   "cell_type": "markdown",
   "source": [
    "Now let's renormalize according to the xsec and luminosity"
   ],
   "metadata": {}
  },
  {
   "cell_type": "markdown",
   "source": [
    "This number agrees with the result which I used to generate the reach plot, even though here we added an angular cut on dark photon so that the dark photon itself will point inside the last tracker of the module.\n",
    "\n",
    "And we can see above that for this benchmark point, the opening angle did not change anything if we require the dark photon to be inside the angular acceptance.\n",
    "\n",
    "Now this code already investigated how we apply the geometrical cuts. The following problem is simply what is the best way to show the numbers. \n",
    "\n",
    "My suggestion: compare the number of events that enters the angular accpetance, and that we only require the dark photon to decay in volume. Show how this probability changes with mass.\n",
    "\n",
    "(If we already do such detailed calculation, why trouble ourself by proving that angular acceptance is garanteed for large mass range? Why not directly apply this cut on the final reach plot?)"
   ],
   "metadata": {}
  },
  {
   "cell_type": "code",
   "execution_count": 4,
   "source": [
    "chain = r.TChain(\"LHEF\")\n",
    "chain.Add(\"../../MG5_events/2to3vec/Events/X_mass_0.2057/unweighted_events.root\")"
   ],
   "outputs": [
    {
     "output_type": "execute_result",
     "data": {
      "text/plain": [
       "1"
      ]
     },
     "metadata": {},
     "execution_count": 4
    }
   ],
   "metadata": {}
  },
  {
   "cell_type": "code",
   "execution_count": 6,
   "source": [
    "X_list = []\n",
    "for event in chain:\n",
    "    for particle in event.Particle:\n",
    "        if particle.PID == 103:\n",
    "            E_X = particle.E\n",
    "            p_X = np.sqrt(particle.E**2 - particle.M**2)\n",
    "            X_vector = r.TLorentzVector()\n",
    "            X_vector.SetPtEtaPhiM(particle.PT, particle.Eta, particle.Phi, particle.M)\n",
    "            theta_X = X_vector.Theta()\n",
    "    X_list.append([E_X, p_X, theta_X])"
   ],
   "outputs": [],
   "metadata": {}
  },
  {
   "cell_type": "code",
   "execution_count": 8,
   "source": [
    "# Angular acceptance in the trackers (not in the ECAL)\n",
    "good_photon_number = 0\n",
    "good_decay_number = 0\n",
    "for i in range(len(X_list)):\n",
    "    E_X = X_list[i][0]\n",
    "    p_X = X_list[i][1]\n",
    "    theta_X = X_list[i][2]\n",
    "    # generate decay distance\n",
    "    d_A = np.random.exponential(scale=distance(p_X, 0.2057, 1.0e-04)) # take an example of g_e=1e-4\n",
    "    # Add angular acceptance cut on the dark photon. At least the dark photon itself should be inside the angular acceptance.\n",
    "    if(L_max * theta_X and L_min <= d_A <= L_max):\n",
    "        good_photon_number += 1\n",
    "        # generate decay angle\n",
    "        theta_e = np.arccos(np.random.uniform(-1.0, 1.0))\n",
    "        phi_e = np.random.uniform(- np.pi*0.5, np.pi*0.5)\n",
    "        theta_elab = np.arccos(boost(theta_e, 0.2057, E_X))\n",
    "        AB = 1.0 - d_A\n",
    "        BC = AB * theta_elab\n",
    "        BD = 1.0 * theta_X\n",
    "        if BD <= Radius:\n",
    "            sin_alpha = np.sin(phi_e) * BD/Radius\n",
    "            alpha = np.arcsin(sin_alpha)\n",
    "            BCmax = Radius * (np.sin(phi_e - alpha)/np.sin(phi_e))\n",
    "            if BC <= BCmax:\n",
    "                good_decay_number += 1\n",
    "\n",
    "efficiency_rate = float(good_decay_number)/float(good_photon_number)\n",
    "print(efficiency_rate)\n",
    "print(good_decay_number)"
   ],
   "outputs": [
    {
     "output_type": "stream",
     "name": "stdout",
     "text": [
      "1.0\n",
      "5\n"
     ]
    }
   ],
   "metadata": {}
  },
  {
   "cell_type": "code",
   "execution_count": 7,
   "source": [
    "good_photon_number = 0\n",
    "good_decay_number = 0\n",
    "for j in range(0, 40):\n",
    "    axis = j+1 # The distance from the j-th target to the ECAL. j is counted from the one that is closest to the ECAL\n",
    "    for i in range(0, len(X_list)):\n",
    "        E_X = X_list[i][0]\n",
    "        p_X = X_list[i][1]\n",
    "        theta_X = X_list[i][2]\n",
    "        d_A = np.random.exponential(scale=distance(p_X, 0.2057, 1.0e-04))\n",
    "        if (L_max * theta_X <= Radius and L_min <= d_A <= L_max):\n",
    "            good_photon_number += 1\n",
    "            theta_e = np.arccos(np.random.uniform(-1.0, 1.0))\n",
    "            phi_e = np.random.uniform(-np.pi*0.5, np.pi*0.5)\n",
    "            theta_elab = np.arccos(boost(theta_e, 0.2057, E_X))\n",
    "            AB = axis - d_A\n",
    "            BC = AB*theta_elab\n",
    "            BD = axis*theta_X\n",
    "            if BD <= Radius:\n",
    "                sin_alpha = np.sin(phi_e) * BD/Radius\n",
    "                alpha = np.arcsin(sin_alpha)\n",
    "                BCmax = Radius * (np.sin(phi_e - alpha)/np.sin(phi_e))\n",
    "                if BC <= BCmax: good_decay_number += 1\n",
    "good_photon_number = good_photon_number/40\n",
    "good_decay_number = good_decay_number/40\n",
    "efficiency_rate = float(good_decay_number)/float(good_photon_number)\n",
    "print(good_photon_number)\n",
    "print(good_decay_number)\n",
    "print(efficiency_rate)"
   ],
   "outputs": [
    {
     "output_type": "stream",
     "name": "stdout",
     "text": [
      "3.3\n",
      "2.025\n",
      "0.6136363636363636\n"
     ]
    }
   ],
   "metadata": {}
  },
  {
   "cell_type": "code",
   "execution_count": 13,
   "source": [
    "coupling_list = [10.0 ** power for power in np.arange(-6.0, -2.0, 0.2)]\n",
    "print(coupling_list)"
   ],
   "outputs": [
    {
     "output_type": "stream",
     "name": "stdout",
     "text": [
      "[1e-06, 1.584893192461114e-06, 2.5118864315095823e-06, 3.981071705534978e-06, 6.309573444801943e-06, 1.0000000000000021e-05, 1.5848931924611175e-05, 2.5118864315095873e-05, 3.981071705534986e-05, 6.309573444801955e-05, 0.00010000000000000041, 0.00015848931924611207, 0.00025118864315095926, 0.00039810717055349936, 0.0006309573444801969, 0.001000000000000006, 0.0015848931924611238, 0.0025118864315095977, 0.003981071705535002, 0.0063095734448019814]\n"
     ]
    }
   ],
   "metadata": {}
  },
  {
   "cell_type": "code",
   "execution_count": 12,
   "source": [
    "print(np.logspace(-6.0, -2.0, 20).tolist())"
   ],
   "outputs": [
    {
     "output_type": "stream",
     "name": "stdout",
     "text": [
      "[1e-06, 1.6237767391887209e-06, 2.6366508987303555e-06, 4.281332398719396e-06, 6.951927961775606e-06, 1.1288378916846883e-05, 1.8329807108324375e-05, 2.9763514416313192e-05, 4.8329302385717524e-05, 7.847599703514606e-05, 0.00012742749857031334, 0.00020691380811147902, 0.0003359818286283781, 0.0005455594781168515, 0.0008858667904100823, 0.0014384498882876629, 0.002335721469090121, 0.003792690190732246, 0.00615848211066026, 0.01]\n"
     ]
    }
   ],
   "metadata": {}
  },
  {
   "cell_type": "code",
   "execution_count": null,
   "source": [],
   "outputs": [],
   "metadata": {}
  }
 ],
 "metadata": {
  "orig_nbformat": 4,
  "language_info": {
   "name": "python",
   "version": "3.8.6",
   "mimetype": "text/x-python",
   "codemirror_mode": {
    "name": "ipython",
    "version": 3
   },
   "pygments_lexer": "ipython3",
   "nbconvert_exporter": "python",
   "file_extension": ".py"
  },
  "kernelspec": {
   "name": "python3",
   "display_name": "Python 3.8.6 64-bit ('py38': venv)"
  },
  "interpreter": {
   "hash": "9312b860057d0975421a3cc6334db90e626d73525ab409fb4d3ae6ab80916ddc"
  }
 },
 "nbformat": 4,
 "nbformat_minor": 2
}