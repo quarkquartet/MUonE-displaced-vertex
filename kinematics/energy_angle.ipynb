{
 "cells": [
  {
   "cell_type": "code",
   "execution_count": 1,
   "metadata": {},
   "outputs": [
    {
     "name": "stdout",
     "output_type": "stream",
     "text": [
      "Welcome to JupyROOT 6.24/06\n"
     ]
    }
   ],
   "source": [
    "import csv\n",
    "import os\n",
    "import random\n",
    "import sys\n",
    "\n",
    "import numpy as np\n",
    "import ROOT as r\n",
    "r.gROOT.ProcessLine(\".include /Users/isaac/Work/MG5_aMC_v3_1_0\")\n",
    "r.gInterpreter.Declare(\n",
    "    '#include \"/Users/isaac/Work/MG5_aMC_v3_1_0/ExRootAnalysis/\\\n",
    "ExRootAnalysis/ExRootTreeReader.h\"'\n",
    ")\n",
    "r.gInterpreter.Declare(\n",
    "    '#include \"/Users/isaac/Work/MG5_aMC_v3_1_0/\\\n",
    "ExRootAnalysis/ExRootAnalysis/ExRootClasses.h\"'\n",
    ")\n",
    "r.gInterpreter.Declare(\n",
    "    '#include \"/Users/isaac/Work/MG5_aMC_v3_1_0/ExRootAnalysis/\\\n",
    "ExRootAnalysis/ExRootLHEFReader.h\"'\n",
    ")\n",
    "r.gSystem.Load(\n",
    "    \"/Users/isaac/Work/MG5_aMC_v3_1_0/\\\n",
    "ExRootAnalysis/libExRootAnalysis.so\"\n",
    ")\n",
    "\n",
    "# -----------------------------------------------------------------\n",
    "# set up environment\n",
    "# -----------------------------------------------------------------\n",
    "os.environ[\"TERM\"] = \"linux\"\n",
    "random.seed(1)"
   ]
  },
  {
   "cell_type": "code",
   "execution_count": 2,
   "metadata": {},
   "outputs": [
    {
     "data": {
      "text/plain": [
       "1"
      ]
     },
     "execution_count": 2,
     "metadata": {},
     "output_type": "execute_result"
    }
   ],
   "source": [
    "event_path = \"/Users/isaac/Work/MUonE/MG5_events/20211215/Events/\"\n",
    "chain2 = r.TChain(\"LHEF\")\n",
    "chain20 = r.TChain(\"LHEF\")\n",
    "chain200 = r.TChain(\"LHEF\")\n",
    "chain2.Add(os.path.join(event_path,\"X_mass_0.002/unweighted_events.root\"))\n",
    "chain20.Add(os.path.join(event_path,\"X_mass_0.02/unweighted_events.root\"))\n",
    "chain200.Add(os.path.join(event_path,\"X_mass_0.2/unweighted_events.root\"))"
   ]
  },
  {
   "cell_type": "code",
   "execution_count": 3,
   "metadata": {},
   "outputs": [
    {
     "data": {
      "text/plain": [
       "100000"
      ]
     },
     "execution_count": 3,
     "metadata": {},
     "output_type": "execute_result"
    }
   ],
   "source": [
    "chain2.GetEntries()"
   ]
  },
  {
   "cell_type": "code",
   "execution_count": 4,
   "metadata": {},
   "outputs": [],
   "source": [
    "mu_list_2 = []\n",
    "e_list_2 = []\n",
    "X_list_2 = []\n",
    "for event in chain2:\n",
    "    for particle in event.Particle:\n",
    "        if(particle.Status == 1 and particle.PID == 11):\n",
    "            electron_vector = r.TLorentzVector()\n",
    "            electron_vector.SetPtEtaPhiM(\n",
    "                particle.PT, particle.Eta, particle.Phi, particle.M)\n",
    "            theta_e = electron_vector.Theta()\n",
    "            E_e = particle.E\n",
    "        elif(particle.Status == 1 and particle.PID == 13):\n",
    "            muon_vector = r.TLorentzVector()\n",
    "            muon_vector.SetPtEtaPhiM(particle.PT, particle.Eta, particle.Phi, particle.M)\n",
    "            theta_mu = muon_vector.Theta()\n",
    "            E_mu = particle.E\n",
    "        elif(particle.PID == 103):\n",
    "            X_vector = r.TLorentzVector()\n",
    "            X_vector.SetPtEtaPhiM(particle.PT, particle.Eta, particle.Phi, particle.M)\n",
    "            theta_X = X_vector.Theta()\n",
    "            E_X = particle.E\n",
    "    mu_list_2.append([theta_mu, E_mu])\n",
    "    X_list_2.append([theta_X, E_X])\n",
    "    e_list_2.append([theta_e, E_e])\n",
    "\n",
    "efile_2 = open(\"2mev_e.csv\", \"w\")\n",
    "with efile_2:\n",
    "    data_writer = csv.writer(efile_2)\n",
    "    data_writer.writerows(e_list_2)\n",
    "mufile_2 = open(\"2mev_mu.csv\", \"w\")\n",
    "with mufile_2:\n",
    "    data_writer = csv.writer(mufile_2)\n",
    "    data_writer.writerows(mu_list_2)\n",
    "Xfile_2 = open(\"2mev_X.csv\", \"w\")\n",
    "with Xfile_2:\n",
    "    data_writer = csv.writer(Xfile_2)\n",
    "    data_writer.writerows(X_list_2)"
   ]
  },
  {
   "cell_type": "code",
   "execution_count": 5,
   "metadata": {},
   "outputs": [],
   "source": [
    "mu_list_20 = []\n",
    "e_list_20 = []\n",
    "X_list_20 = []\n",
    "for event in chain20:\n",
    "    for particle in event.Particle:\n",
    "        if(particle.Status == 1 and particle.PID == 11):\n",
    "            electron_vector = r.TLorentzVector()\n",
    "            electron_vector.SetPtEtaPhiM(\n",
    "                particle.PT, particle.Eta, particle.Phi, particle.M)\n",
    "            theta_e = electron_vector.Theta()\n",
    "            E_e = particle.E\n",
    "        elif(particle.Status == 1 and particle.PID == 13):\n",
    "            muon_vector = r.TLorentzVector()\n",
    "            muon_vector.SetPtEtaPhiM(particle.PT, particle.Eta, particle.Phi, particle.M)\n",
    "            theta_mu = muon_vector.Theta()\n",
    "            E_mu = particle.E\n",
    "        elif(particle.PID == 103):\n",
    "            X_vector = r.TLorentzVector()\n",
    "            X_vector.SetPtEtaPhiM(particle.PT, particle.Eta, particle.Phi, particle.M)\n",
    "            theta_X = X_vector.Theta()\n",
    "            E_X = particle.E\n",
    "    mu_list_20.append([theta_mu, E_mu])\n",
    "    X_list_20.append([theta_X, E_X])\n",
    "    e_list_20.append([theta_e, E_e])\n",
    "\n",
    "efile_20 = open(\"20mev_e.csv\", \"w\")\n",
    "with efile_20:\n",
    "    data_writer = csv.writer(efile_20)\n",
    "    data_writer.writerows(e_list_20)\n",
    "mufile_20 = open(\"20mev_mu.csv\", \"w\")\n",
    "with mufile_20:\n",
    "    data_writer = csv.writer(mufile_20)\n",
    "    data_writer.writerows(mu_list_20)\n",
    "Xfile_20 = open(\"20mev_X.csv\", \"w\")\n",
    "with Xfile_20:\n",
    "    data_writer = csv.writer(Xfile_20)\n",
    "    data_writer.writerows(X_list_20)"
   ]
  },
  {
   "cell_type": "code",
   "execution_count": 6,
   "metadata": {},
   "outputs": [],
   "source": [
    "mu_list_200 = []\n",
    "e_list_200 = []\n",
    "X_list_200 = []\n",
    "for event in chain200:\n",
    "    for particle in event.Particle:\n",
    "        if(particle.Status == 1 and particle.PID == 11):\n",
    "            electron_vector = r.TLorentzVector()\n",
    "            electron_vector.SetPtEtaPhiM(\n",
    "                particle.PT, particle.Eta, particle.Phi, particle.M)\n",
    "            theta_e = electron_vector.Theta()\n",
    "            E_e = particle.E\n",
    "        elif(particle.Status == 1 and particle.PID == 13):\n",
    "            muon_vector = r.TLorentzVector()\n",
    "            muon_vector.SetPtEtaPhiM(particle.PT, particle.Eta, particle.Phi, particle.M)\n",
    "            theta_mu = muon_vector.Theta()\n",
    "            E_mu = particle.E\n",
    "        elif(particle.PID == 103):\n",
    "            X_vector = r.TLorentzVector()\n",
    "            X_vector.SetPtEtaPhiM(particle.PT, particle.Eta, particle.Phi, particle.M)\n",
    "            theta_X = X_vector.Theta()\n",
    "            E_X = particle.E\n",
    "    mu_list_200.append([theta_mu, E_mu])\n",
    "    X_list_200.append([theta_X, E_X])\n",
    "    e_list_200.append([theta_e, E_e])\n",
    "\n",
    "efile_200 = open(\"200mev_e.csv\", \"w\")\n",
    "with efile_200:\n",
    "    data_writer = csv.writer(efile_200)\n",
    "    data_writer.writerows(e_list_200)\n",
    "mufile_200 = open(\"200mev_mu.csv\", \"w\")\n",
    "with mufile_200:\n",
    "    data_writer = csv.writer(mufile_200)\n",
    "    data_writer.writerows(mu_list_200)\n",
    "Xfile_200 = open(\"200mev_X.csv\", \"w\")\n",
    "with Xfile_200:\n",
    "    data_writer = csv.writer(Xfile_200)\n",
    "    data_writer.writerows(X_list_200)"
   ]
  },
  {
   "cell_type": "markdown",
   "metadata": {},
   "source": []
  }
 ],
 "metadata": {
  "interpreter": {
   "hash": "9312b860057d0975421a3cc6334db90e626d73525ab409fb4d3ae6ab80916ddc"
  },
  "kernelspec": {
   "display_name": "Python 3.8.6 64-bit ('py38': venv)",
   "name": "python3"
  },
  "language_info": {
   "codemirror_mode": {
    "name": "ipython",
    "version": 3
   },
   "file_extension": ".py",
   "mimetype": "text/x-python",
   "name": "python",
   "nbconvert_exporter": "python",
   "pygments_lexer": "ipython3",
   "version": "3.8.6"
  },
  "orig_nbformat": 4
 },
 "nbformat": 4,
 "nbformat_minor": 2
}
