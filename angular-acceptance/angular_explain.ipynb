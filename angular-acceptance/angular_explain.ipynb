{
 "cells": [
  {
   "cell_type": "markdown",
   "source": [
    "# Investigate the behavior of ECAL requirement: why the probability drops for large mass?\n",
    "\n",
    "## Prepare files"
   ],
   "metadata": {}
  },
  {
   "cell_type": "code",
   "execution_count": 1,
   "source": [
    "import csv\n",
    "import os\n",
    "import random\n",
    "import sys\n",
    "import numpy as np\n",
    "import ROOT as r\n",
    "from matplotlib import pyplot as plt\n",
    "r.gROOT.ProcessLine(\".include /Users/isaac/Work/MG5_aMC_v3_1_0\")\n",
    "r.gInterpreter.Declare(\n",
    "    '#include \"/Users/isaac/Work/MG5_aMC_v3_1_0/ExRootAnalysis/\\\n",
    "ExRootAnalysis/ExRootTreeReader.h\"'\n",
    ")\n",
    "r.gInterpreter.Declare(\n",
    "    '#include \"/Users/isaac/Work/MG5_aMC_v3_1_0/\\\n",
    "ExRootAnalysis/ExRootAnalysis/ExRootClasses.h\"'\n",
    ")\n",
    "r.gInterpreter.Declare(\n",
    "    '#include \"/Users/isaac/Work/MG5_aMC_v3_1_0/ExRootAnalysis/\\\n",
    "ExRootAnalysis/ExRootLHEFReader.h\"'\n",
    ")\n",
    "r.gSystem.Load(\n",
    "    \"/Users/isaac/Work/MG5_aMC_v3_1_0/\\\n",
    "ExRootAnalysis/libExRootAnalysis.so\"\n",
    ")\n",
    "os.environ[\"TERM\"] = \"linux\"\n",
    "random.seed(1)\n",
    "\n",
    "luminosity = 1.5e04\n",
    "event_path = \"/Users/isaac/Work/MUonE/MG5_events/2to3vec/Events/\"\n",
    "m_e = 5.11e-04\n",
    "meter = 1\n",
    "GeV = 1 / (1.97 * meter * 1.0e-16)\n",
    "Radius = 0.05\n",
    "\n",
    "lowest_angle_cut = 1.0 / 1000.0  # This requires that the opening angle should be within the resolution\n",
    "L_min = 0.02\n",
    "L_max = 14.5 / 100.0  # input cm, change to m\n",
    "E_cut = 1.0  # energy cuts in unit of GeV\n",
    "\n",
    "mass_list = [2, 20, 200]\n",
    "coupling = 1.0e-04\n",
    "event_path = \"/Users/isaac/Work/MUonE/MG5_events/check_iftah/Events/\""
   ],
   "outputs": [
    {
     "output_type": "stream",
     "name": "stdout",
     "text": [
      "Welcome to JupyROOT 6.22/09\n"
     ]
    }
   ],
   "metadata": {}
  },
  {
   "cell_type": "code",
   "execution_count": 2,
   "source": [
    "def decay_rate(mass, g_e):\n",
    "    # the \\Gamma, eq 10\n",
    "    alpha_e = (g_e ** 2) / (4 * np.pi)\n",
    "    return (\n",
    "        alpha_e\n",
    "        * mass\n",
    "        * (1 + 2 * ((m_e ** 2) / (mass ** 2)))\n",
    "        * np.sqrt(1 - 4 * ((m_e ** 2) / (mass ** 2)))\n",
    "        * GeV\n",
    "        / 3\n",
    "    )\n",
    "\n",
    "\n",
    "def distance(momentum, mass, g_e):\n",
    "    # the d_{A^\\prime}, eq 11\n",
    "    return momentum / (decay_rate(mass, g_e) * mass)\n",
    "\n",
    "def boost(theta, mass, energy):\n",
    "    beta = np.sqrt(1.0 - (mass/energy)**2)\n",
    "    gamma = energy/mass\n",
    "    pcom = np.sqrt(mass**2.0 - 4.0 * (m_e ** 2.0))/2.0\n",
    "    nominator = gamma * (pcom * np.cos(theta) + beta * mass / 2.0)\n",
    "    denominator = np.sqrt((pcom**2.0) * (np.sin(theta)**2.0) + (gamma**2.0)*((pcom * np.cos(theta) + beta * mass * 0.5)**2.0))\n",
    "    return nominator/denominator\n"
   ],
   "outputs": [],
   "metadata": {}
  },
  {
   "cell_type": "code",
   "execution_count": 3,
   "source": [
    "chain2 = r.TChain(\"LHEF\")\n",
    "chain2.Add(os.path.join(event_path,\"X_2mev/unweighted_events.root\"))\n",
    "chain20 = r.TChain(\"LHEF\")\n",
    "chain20.Add(os.path.join(event_path,\"X_20mev/unweighted_events.root\"))\n",
    "chain200 = r.TChain(\"LHEF\")\n",
    "chain200.Add(os.path.join(event_path,\"X_200mev/unweighted_events.root\"))"
   ],
   "outputs": [
    {
     "output_type": "execute_result",
     "data": {
      "text/plain": [
       "1"
      ]
     },
     "metadata": {},
     "execution_count": 3
    }
   ],
   "metadata": {}
  },
  {
   "cell_type": "markdown",
   "source": [
    "## Initial quantities of dark photons"
   ],
   "metadata": {}
  },
  {
   "cell_type": "code",
   "execution_count": 4,
   "source": [
    "X_list_2 = []\n",
    "for event in chain2:\n",
    "    for particle in event.Particle:\n",
    "        if particle.PID == 103:\n",
    "            E_X = particle.E\n",
    "            p_X = np.sqrt(particle.E**2 - particle.M**2)\n",
    "            X_vector = r.TLorentzVector()\n",
    "            X_vector.SetPtEtaPhiM(particle.PT, particle.Eta, particle.Phi, particle.M)\n",
    "            theta_X = X_vector.Theta()\n",
    "            gamma_X = particle.E/particle.M\n",
    "    X_list_2.append([E_X, p_X, theta_X, gamma_X])\n",
    "X_list_20 = []\n",
    "for event in chain20:\n",
    "    for particle in event.Particle:\n",
    "        if particle.PID == 103:\n",
    "            E_X = particle.E\n",
    "            p_X = np.sqrt(particle.E**2 - particle.M**2)\n",
    "            X_vector = r.TLorentzVector()\n",
    "            X_vector.SetPtEtaPhiM(particle.PT, particle.Eta, particle.Phi, particle.M)\n",
    "            theta_X = X_vector.Theta()\n",
    "            gamma_X = particle.E/particle.M\n",
    "    X_list_20.append([E_X, p_X, theta_X, gamma_X])\n",
    "X_list_200 = []\n",
    "for event in chain200:\n",
    "    for particle in event.Particle:\n",
    "        if particle.PID == 103:\n",
    "            E_X = particle.E\n",
    "            p_X = np.sqrt(particle.E**2 - particle.M**2)\n",
    "            X_vector = r.TLorentzVector()\n",
    "            X_vector.SetPtEtaPhiM(particle.PT, particle.Eta, particle.Phi, particle.M)\n",
    "            theta_X = X_vector.Theta()\n",
    "            gamma_X = particle.E/particle.M\n",
    "    X_list_200.append([E_X, p_X, theta_X, gamma_X])"
   ],
   "outputs": [],
   "metadata": {}
  },
  {
   "cell_type": "code",
   "execution_count": 5,
   "source": [
    "with open(\"./initial_2.csv\",\"w\") as f:\n",
    "    csv.writer(f).writerows(X_list_2)\n",
    "with open(\"./initial_20.csv\",\"w\") as f:\n",
    "    csv.writer(f).writerows(X_list_20)\n",
    "with open(\"./initial_200.csv\",\"w\") as f:\n",
    "    csv.writer(f).writerows(X_list_200)"
   ],
   "outputs": [],
   "metadata": {}
  },
  {
   "cell_type": "markdown",
   "source": [
    "## \"in-volume dark photon\""
   ],
   "metadata": {}
  },
  {
   "cell_type": "code",
   "execution_count": 15,
   "source": [
    "involume_2 = []\n",
    "for i in range(0, len(X_list_2)):\n",
    "    p_X = X_list_2[i][1]\n",
    "    d_A = np.random.exponential(distance(p_X, 0.002, 1.0e-04))\n",
    "    if L_min <= d_A <= L_max:\n",
    "        involume_2.append(X_list_2[i])\n",
    "with open(\"./involume_2.csv\", \"w\") as f:\n",
    "    csv.writer(f).writerows(involume_2)\n",
    "\n",
    "involume_20 = []\n",
    "for i in range(0, len(X_list_20)):\n",
    "    p_X = X_list_20[i][1]\n",
    "    d_A = np.random.exponential(distance(p_X, 0.02, 1.0e-04))\n",
    "    if L_min <= d_A <= L_max:\n",
    "        involume_20.append(X_list_20[i])\n",
    "with open(\"./involume_20.csv\", \"w\") as f:\n",
    "    csv.writer(f).writerows(involume_20)\n",
    "\n",
    "involume_200 = []\n",
    "for i in range(0, len(X_list_200)):\n",
    "    p_X = X_list_200[i][1]\n",
    "    d_A = np.random.exponential(distance(p_X, 0.2, 1.0e-04))\n",
    "    if L_min <= d_A <= L_max:\n",
    "        involume_200.append(X_list_200[i])\n",
    "with open(\"./involume_200.csv\", \"w\") as f:\n",
    "    csv.writer(f).writerows(involume_200)"
   ],
   "outputs": [],
   "metadata": {}
  },
  {
   "cell_type": "markdown",
   "source": [
    "## Small angle dark photon"
   ],
   "metadata": {}
  },
  {
   "cell_type": "code",
   "execution_count": null,
   "source": [
    "smallangle_list_2 = []\n",
    "for j in range(0, 40):\n",
    "    axis = j+1  \n",
    "    for i in range(0, len(involume_2)):\n",
    "        if axis * involume_2[i][2] <= Radius:\n",
    "            smallangle_list_2.append(involume_2[i])\n"
   ],
   "outputs": [],
   "metadata": {}
  },
  {
   "cell_type": "markdown",
   "source": [
    "## Decay products information"
   ],
   "metadata": {}
  },
  {
   "cell_type": "code",
   "execution_count": 16,
   "source": [
    "decay_list_200 = []\n",
    "theta_e1_list_200 = []\n",
    "\n",
    "for i in range(0, len(involume_200)):\n",
    "    theta_e = np.arccos(np.random.uniform(-1.0,1.0))\n",
    "    phi_e = np.random.uniform(-np.pi*0.5, np.pi*0.5)\n",
    "    theta_elab1 = np.arccos(boost(theta_e, 0.2, involume_200[i][0]))\n",
    "    theta_elab2 = np.arccos(boost(theta_e+np.pi, 0.2, involume_200[i][0]))\n",
    "    theta_e1_list_200.append(theta_elab1)\n",
    "\n",
    "theta_e1_list_20 = []\n",
    "\n",
    "for i in range(0, len(involume_20)):\n",
    "    theta_e = np.arccos(np.random.uniform(-1.0,1.0))\n",
    "    phi_e = np.random.uniform(-np.pi*0.5, np.pi*0.5)\n",
    "    theta_elab1 = np.arccos(boost(theta_e, 0.02, involume_20[i][0]))\n",
    "    theta_elab2 = np.arccos(boost(theta_e+np.pi, 0.02, involume_20[i][0]))\n",
    "    theta_e1_list_20.append(theta_elab1)\n",
    "\n",
    "theta_e1_list_2 = []\n",
    "\n",
    "for i in range(0, len(involume_2)):\n",
    "    theta_e = np.arccos(np.random.uniform(-1.0,1.0))\n",
    "    phi_e = np.random.uniform(-np.pi*0.5, np.pi*0.5)\n",
    "    theta_elab1 = np.arccos(boost(theta_e, 0.002, involume_2[i][0]))\n",
    "    theta_elab2 = np.arccos(boost(theta_e+np.pi, 0.002, involume_2[i][0]))\n",
    "    theta_e1_list_2.append(theta_elab1)"
   ],
   "outputs": [],
   "metadata": {}
  },
  {
   "cell_type": "markdown",
   "source": [],
   "metadata": {}
  },
  {
   "cell_type": "code",
   "execution_count": 15,
   "source": [
    "len(theta_e1_list_200)"
   ],
   "outputs": [
    {
     "output_type": "execute_result",
     "data": {
      "text/plain": [
       "6"
      ]
     },
     "metadata": {},
     "execution_count": 15
    }
   ],
   "metadata": {}
  },
  {
   "cell_type": "code",
   "execution_count": 12,
   "source": [
    "plt.hist(theta_e1_list_20)"
   ],
   "outputs": [
    {
     "output_type": "execute_result",
     "data": {
      "text/plain": [
       "(array([2.649e+03, 1.000e+00, 0.000e+00, 0.000e+00, 0.000e+00, 0.000e+00,\n",
       "        0.000e+00, 0.000e+00, 0.000e+00, 1.000e+00]),\n",
       " array([3.28593411e-06, 2.55143835e-01, 5.10284383e-01, 7.65424932e-01,\n",
       "        1.02056548e+00, 1.27570603e+00, 1.53084658e+00, 1.78598713e+00,\n",
       "        2.04112768e+00, 2.29626822e+00, 2.55140877e+00]),\n",
       " <BarContainer object of 10 artists>)"
      ]
     },
     "metadata": {},
     "execution_count": 12
    },
    {
     "output_type": "display_data",
     "data": {
      "image/png": "[encoded data removed]",
      "text/plain": [
       "<Figure size 432x288 with 1 Axes>"
      ]
     },
     "metadata": {
      "needs_background": "light"
     }
    }
   ],
   "metadata": {}
  },
  {
   "cell_type": "code",
   "execution_count": 17,
   "source": [
    "with open(\"./thetalab_20.csv\", \"w\") as f:\n",
    "    csv.writer(f).writerow(theta_e1_list_20)"
   ],
   "outputs": [],
   "metadata": {}
  },
  {
   "cell_type": "code",
   "execution_count": 18,
   "source": [
    "with open(\"./thetalab_200.csv\", \"w\") as f:\n",
    "    csv.writer(f).writerow(theta_e1_list_200)\n",
    "\n",
    "with open(\"./thetalab_2.csv\", \"w\") as f:\n",
    "    csv.writer(f).writerow(theta_e1_list_2)"
   ],
   "outputs": [],
   "metadata": {}
  },
  {
   "cell_type": "markdown",
   "source": [
    "## Try another sample with large enough mass points"
   ],
   "metadata": {}
  },
  {
   "cell_type": "code",
   "execution_count": 5,
   "source": [
    "chain_100k_200 = r.TChain(\"LHEF\")\n",
    "chain_100k_200.Add(os.path.join(event_path,\"X_200mev_100k/unweighted_events.root\"))"
   ],
   "outputs": [
    {
     "output_type": "execute_result",
     "data": {
      "text/plain": [
       "1"
      ]
     },
     "metadata": {},
     "execution_count": 5
    }
   ],
   "metadata": {}
  },
  {
   "cell_type": "code",
   "execution_count": 6,
   "source": [
    "X_list_200_100k = []\n",
    "for event in chain_100k_200:\n",
    "    for particle in event.Particle:\n",
    "        if particle.PID == 103:\n",
    "            E_X = particle.E\n",
    "            p_X = np.sqrt(particle.E**2 - particle.M**2)\n",
    "            X_vector = r.TLorentzVector()\n",
    "            X_vector.SetPtEtaPhiM(particle.PT, particle.Eta, particle.Phi, particle.M)\n",
    "            theta_X = X_vector.Theta()\n",
    "            gamma_X = particle.E/particle.M\n",
    "    X_list_200_100k.append([E_X, p_X, theta_X, gamma_X])"
   ],
   "outputs": [],
   "metadata": {}
  },
  {
   "cell_type": "code",
   "execution_count": 10,
   "source": [
    "involume_200_100k = []\n",
    "for i in range(0, len(X_list_200_100k)):\n",
    "    p_X = X_list_200_100k[i][1]\n",
    "    d_A = np.random.exponential(distance(p_X, 0.2, 1.0e-04))\n",
    "    if L_min <= d_A <= L_max:\n",
    "        involume_200_100k.append(X_list_200_100k[i])\n",
    "with open(\"./involume_200_100k.csv\", \"w\") as f:\n",
    "    csv.writer(f).writerows(involume_200_100k)"
   ],
   "outputs": [],
   "metadata": {}
  },
  {
   "cell_type": "markdown",
   "source": [],
   "metadata": {}
  },
  {
   "cell_type": "code",
   "execution_count": 22,
   "source": [
    "len(involume_200_100k)"
   ],
   "outputs": [
    {
     "output_type": "execute_result",
     "data": {
      "text/plain": [
       "49"
      ]
     },
     "metadata": {},
     "execution_count": 22
    }
   ],
   "metadata": {}
  },
  {
   "cell_type": "code",
   "execution_count": 19,
   "source": [
    "theta_e1_list_200_100k = []\n",
    "\n",
    "for i in range(0, len(involume_200_100k)):\n",
    "    theta_e = np.arccos(np.random.uniform(-1.0,1.0))\n",
    "    phi_e = np.random.uniform(-np.pi*0.5, np.pi*0.5)\n",
    "    theta_elab1 = np.arccos(boost(theta_e, 0.2, involume_200_100k[i][0]))\n",
    "    theta_elab2 = np.arccos(boost(theta_e+np.pi, 0.2, involume_200_100k[i][0]))\n",
    "    theta_e1_list_200_100k.append(theta_elab1)\n",
    "\n",
    "with open(\"./thetalab_200_100k.csv\", \"w\") as f:\n",
    "    csv.writer(f).writerow(theta_e1_list_200_100k)"
   ],
   "outputs": [],
   "metadata": {}
  },
  {
   "cell_type": "code",
   "execution_count": 28,
   "source": [
    "good_photon_number = 0\n",
    "good_decay_number = 0\n",
    "for j in range(0, 40):\n",
    "    axis = j+1\n",
    "    for i in range(0, len(X_list_200_100k)):\n",
    "        E_X = X_list_200_100k[i][0]\n",
    "        p_X = X_list_200_100k[i][1]\n",
    "        theta_X = X_list_200_100k[i][2]\n",
    "        d_A = np.random.exponential(distance(p_X, 0.2, 1.0e-04))\n",
    "        if L_min <= d_A <= L_max:\n",
    "            good_photon_number += 1\n",
    "            theta_e = np.arccos(np.random.uniform(-1.0, 1.0))\n",
    "            phi_e = np.random.uniform(-np.pi*0.5, np.pi*0.5)\n",
    "            theta_elab1 = np.arccos(boost(theta_e, 0.2, E_X))\n",
    "            theta_elab2 = np.arccos(boost(theta_e+np.pi, 0.2, E_X))\n",
    "            AB = axis - d_A\n",
    "            BC = AB * theta_elab1\n",
    "            BD = axis*theta_X\n",
    "            BF = AB * theta_elab2\n",
    "            if BD <= Radius:\n",
    "                sin_alpha = np.sin(phi_e)\n",
    "                alpha = np.arcsin(sin_alpha)\n",
    "                BCmax = Radius * (np.sin(phi_e - alpha)/np.sin(phi_e))\n",
    "                BFmax = Radius * (np.sin(phi_e + alpha)/np.sin(phi_e))\n",
    "                if BC <= BCmax and BF<=BFmax:\n",
    "                    good_decay_number += 1\n",
    "print(good_decay_number/good_photon_number)\n"
   ],
   "outputs": [
    {
     "output_type": "stream",
     "name": "stdout",
     "text": [
      "0.0\n"
     ]
    }
   ],
   "metadata": {}
  },
  {
   "cell_type": "code",
   "execution_count": 30,
   "source": [
    "print(good_decay_number)"
   ],
   "outputs": [
    {
     "output_type": "stream",
     "name": "stdout",
     "text": [
      "0\n"
     ]
    }
   ],
   "metadata": {}
  },
  {
   "cell_type": "code",
   "execution_count": 8,
   "source": [
    "good_photon_number = 0\n",
    "good_decay_number = 0\n",
    "for j in range(0, 40):\n",
    "    axis = j + 1\n",
    "    for i in range(0, len(X_list_200_100k)):\n",
    "        E_X = X_list_200_100k[i][0]\n",
    "        p_X = X_list_200_100k[i][1]\n",
    "        theta_X = X_list_200_100k[i][2]\n",
    "        d_A = np.random.exponential(distance(p_X, 0.2, 1.0e-04))\n",
    "        if L_min <= d_A <= L_max:\n",
    "            good_photon_number += 1\n",
    "            theta_e = np.arccos(np.random.uniform(-1.0, 1.0))\n",
    "            phi_e = np.random.uniform(-np.pi*0.5, np.pi*0.5)\n",
    "            theta_elab1 = np.arccos(boost(theta_e, 0.2, E_X))\n",
    "            theta_elab2 = np.arccos(boost(theta_e+np.pi, 0.2, E_X))\n",
    "            AB = axis - d_A\n",
    "            BC = AB * theta_elab1\n",
    "            BD = axis*theta_X\n",
    "            BF = AB * theta_elab2\n",
    "            if BD <= Radius:\n",
    "                sin_alpha = np.sin(phi_e) * BD/Radius\n",
    "                alpha = np.arcsin(sin_alpha)\n",
    "                BCmax = Radius * (np.sin(phi_e - alpha)/np.sin(phi_e))\n",
    "                BFmax = Radius * (np.sin(phi_e + alpha)/np.sin(phi_e))\n",
    "                if BC <= BCmax and BF<=BFmax:\n",
    "                    good_decay_number += 1\n",
    "print(good_decay_number/good_photon_number)"
   ],
   "outputs": [
    {
     "output_type": "stream",
     "name": "stdout",
     "text": [
      "0.4067439409905163\n"
     ]
    }
   ],
   "metadata": {}
  },
  {
   "cell_type": "code",
   "execution_count": 20,
   "source": [
    "open_angle_200_100k = []\n",
    "\n",
    "for i in range(0, len(involume_200_100k)):\n",
    "    theta_e = np.arccos(np.random.uniform(-1.0,1.0))\n",
    "    phi_e = np.random.uniform(-np.pi*0.5, np.pi*0.5)\n",
    "    theta_elab1 = np.arccos(boost(theta_e, 0.2, involume_200_100k[i][0]))\n",
    "    theta_elab2 = np.arccos(boost(theta_e+np.pi, 0.2, involume_200_100k[i][0]))\n",
    "    openee=theta_elab1 + theta_elab2\n",
    "    open_angle_200_100k.append(openee)\n",
    "\n",
    "with open(\"./openee_200_100k.csv\", \"w\") as f:\n",
    "    csv.writer(f).writerow(open_angle_200_100k)"
   ],
   "outputs": [],
   "metadata": {}
  },
  {
   "cell_type": "markdown",
   "source": [],
   "metadata": {}
  },
  {
   "cell_type": "code",
   "execution_count": 21,
   "source": [
    "open_angle_20 = []\n",
    "\n",
    "for i in range(0, len(involume_20)):\n",
    "    theta_e = np.arccos(np.random.uniform(-1.0,1.0))\n",
    "    phi_e = np.random.uniform(-np.pi*0.5, np.pi*0.5)\n",
    "    theta_elab1 = np.arccos(boost(theta_e, 0.02, involume_20[i][0]))\n",
    "    theta_elab2 = np.arccos(boost(theta_e+np.pi, 0.02, involume_20[i][0]))\n",
    "    openee=theta_elab1 + theta_elab2\n",
    "    open_angle_20.append(openee)\n",
    "\n",
    "with open(\"./openee_20.csv\", \"w\") as f:\n",
    "    csv.writer(f).writerow(open_angle_20)"
   ],
   "outputs": [],
   "metadata": {}
  },
  {
   "cell_type": "code",
   "execution_count": 4,
   "source": [
    "chain_200_g4 = r.TChain(\"LHEF\")\n",
    "chain_200_g4.Add(os.path.join(event_path + \"X_200mev_g-4/unweighted_events.root\"))"
   ],
   "outputs": [
    {
     "output_type": "execute_result",
     "data": {
      "text/plain": [
       "1"
      ]
     },
     "metadata": {},
     "execution_count": 4
    }
   ],
   "metadata": {}
  },
  {
   "cell_type": "code",
   "execution_count": 5,
   "source": [
    "X_list_200_g4 = []\n",
    "involume_200_g4 = []\n",
    "theta_e1_list_200_g4 = []\n",
    "for event in chain_200_g4:\n",
    "    for particle in event.Particle:\n",
    "        if particle.PID == 103:\n",
    "            E_X = particle.E\n",
    "            p_X = np.sqrt(particle.E**2 - particle.M)\n",
    "            X_vector = r.TLorentzVector()\n",
    "            X_vector.SetPtEtaPhiM(particle.PT, particle.Eta, particle.Phi, particle.M)\n",
    "            theta_X = X_vector.Theta()\n",
    "            gamma_X = E_X/particle.M\n",
    "            X_list_200_g4.append([E_X, p_X, theta_X, gamma_X])\n",
    "\n",
    "for i in range(0, len(X_list_200_g4)):\n",
    "    p_X = X_list_200_g4[i][1]\n",
    "    d_A = np.random.exponential(distance(p_X, 0.2, 1.0e-04))\n",
    "    if L_min <= d_A <= L_max:\n",
    "        involume_200_g4.append(X_list_200_g4[i])\n",
    "\n",
    "for i in range(0, len(involume_200_g4)):\n",
    "    theta_e = np.arccos(np.random.uniform(-1.0,1.0))\n",
    "    phi_e = np.random.uniform(-np.pi*0.5, np.pi*0.5)\n",
    "    theta_elab1 = np.arccos(boost(theta_e, 0.2, involume_200_g4[i][0]))\n",
    "    theta_elab2 = np.arccos(boost(theta_e+np.pi, 0.2, involume_200_g4[i][0]))\n",
    "    theta_e1_list_200_g4.append(theta_elab1) \n",
    "\n",
    "with open(\"./initial_200_g4.csv\", \"w\") as f:\n",
    "    csv.writer(f).writerows(X_list_200_g4)\n",
    "\n",
    "with open(\"./involume_200_g4.csv\", \"w\") as f:\n",
    "    csv.writer(f).writerows(involume_200_g4)\n",
    "\n",
    "with open(\"./thetalab_200_g4.csv\", \"w\") as f:\n",
    "    csv.writer(f).writerow(theta_e1_list_200_g4)"
   ],
   "outputs": [],
   "metadata": {}
  },
  {
   "cell_type": "code",
   "execution_count": null,
   "source": [],
   "outputs": [],
   "metadata": {}
  }
 ],
 "metadata": {
  "orig_nbformat": 4,
  "language_info": {
   "name": "python",
   "version": "3.8.6",
   "mimetype": "text/x-python",
   "codemirror_mode": {
    "name": "ipython",
    "version": 3
   },
   "pygments_lexer": "ipython3",
   "nbconvert_exporter": "python",
   "file_extension": ".py"
  },
  "kernelspec": {
   "name": "python3",
   "display_name": "Python 3.8.6 64-bit ('py38': venv)"
  },
  "interpreter": {
   "hash": "9312b860057d0975421a3cc6334db90e626d73525ab409fb4d3ae6ab80916ddc"
  }
 },
 "nbformat": 4,
 "nbformat_minor": 2
}