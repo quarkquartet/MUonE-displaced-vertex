{
 "cells": [
  {
   "cell_type": "code",
   "execution_count": 1,
   "source": [
    "import csv\n",
    "import os\n",
    "import random\n",
    "import sys\n",
    "import numpy as np\n",
    "import ROOT as r\n",
    "r.gROOT.ProcessLine(\".include /Users/isaac/Work/MG5_aMC_v3_1_0\")\n",
    "r.gInterpreter.Declare(\n",
    "    '#include \"/Users/isaac/Work/MG5_aMC_v3_1_0/ExRootAnalysis/\\\n",
    "ExRootAnalysis/ExRootTreeReader.h\"'\n",
    ")\n",
    "r.gInterpreter.Declare(\n",
    "    '#include \"/Users/isaac/Work/MG5_aMC_v3_1_0/\\\n",
    "ExRootAnalysis/ExRootAnalysis/ExRootClasses.h\"'\n",
    ")\n",
    "r.gInterpreter.Declare(\n",
    "    '#include \"/Users/isaac/Work/MG5_aMC_v3_1_0/ExRootAnalysis/\\\n",
    "ExRootAnalysis/ExRootLHEFReader.h\"'\n",
    ")\n",
    "r.gSystem.Load(\n",
    "    \"/Users/isaac/Work/MG5_aMC_v3_1_0/\\\n",
    "ExRootAnalysis/libExRootAnalysis.so\"\n",
    ")\n",
    "os.environ[\"TERM\"] = \"linux\"\n",
    "random.seed(1)\n",
    "\n"
   ],
   "outputs": [
    {
     "output_type": "stream",
     "name": "stdout",
     "text": [
      "Welcome to JupyROOT 6.22/09\n"
     ]
    }
   ],
   "metadata": {}
  },
  {
   "cell_type": "code",
   "execution_count": 9,
   "source": [
    "chain = r.TChain(\"LHEF\")\n",
    "chain.Add(\"~/Work/MUonE/MG5_events/100mev/Events/run_01/unweighted_events.root\")\n",
    "theta_list = []\n",
    "for event in chain:\n",
    "    for particle in event.Particle:\n",
    "        if(particle.Status == 1 and particle.PID == 11):\n",
    "            electron_vector = r.TLorentzVector()\n",
    "            electron_vector.SetPtEtaPhiM(\n",
    "                particle.PT, particle.Eta, particle.Phi, particle.M)\n",
    "            theta_e = electron_vector.Theta() * 1000\n",
    "    for particle in event.Particle:\n",
    "        if(particle.Status == 1 and particle.PID == 13):\n",
    "            muon_vector = r.TLorentzVector()\n",
    "            muon_vector.SetPtEtaPhiM(\n",
    "                particle.PT, particle.Eta, particle.Phi, particle.M)\n",
    "            theta_mu = muon_vector.Theta()*1000\n",
    "    if theta_e <= 30:\n",
    "        theta_list.append([theta_e, theta_mu])"
   ],
   "outputs": [],
   "metadata": {}
  },
  {
   "cell_type": "code",
   "execution_count": 10,
   "source": [
    "csv_file = open(\"100mev_theta_relation.csv\", \"w\")\n",
    "with csv_file:\n",
    "    header = [\"theta_e\", \"theta_mu\"]\n",
    "    data_writer = csv.writer(csv_file)\n",
    "    data_writer.writerow(header)\n",
    "    data_writer.writerows(theta_list)\n"
   ],
   "outputs": [],
   "metadata": {}
  },
  {
   "cell_type": "code",
   "execution_count": 8,
   "source": [
    "from matplotlib import pyplot as plt\n",
    "plt.hist2d(theta_e_list,theta_mu_list)\n",
    "plt.xlim((0,30))\n",
    "plt.ylim((0,5))"
   ],
   "outputs": [
    {
     "output_type": "execute_result",
     "data": {
      "text/plain": [
       "(0.0, 5.0)"
      ]
     },
     "metadata": {},
     "execution_count": 8
    },
    {
     "output_type": "display_data",
     "data": {
      "image/png": "[encoded data removed]",
      "text/plain": [
       "<Figure size 432x288 with 1 Axes>"
      ]
     },
     "metadata": {
      "needs_background": "light"
     }
    }
   ],
   "metadata": {}
  },
  {
   "cell_type": "code",
   "execution_count": null,
   "source": [],
   "outputs": [],
   "metadata": {}
  }
 ],
 "metadata": {
  "orig_nbformat": 4,
  "language_info": {
   "name": "python",
   "version": "3.8.6",
   "mimetype": "text/x-python",
   "codemirror_mode": {
    "name": "ipython",
    "version": 3
   },
   "pygments_lexer": "ipython3",
   "nbconvert_exporter": "python",
   "file_extension": ".py"
  },
  "kernelspec": {
   "name": "python3",
   "display_name": "Python 3.8.6 64-bit ('py38': venv)"
  },
  "interpreter": {
   "hash": "9312b860057d0975421a3cc6334db90e626d73525ab409fb4d3ae6ab80916ddc"
  }
 },
 "nbformat": 4,
 "nbformat_minor": 2
}