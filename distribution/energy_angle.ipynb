{
 "cells": [
  {
   "cell_type": "code",
   "execution_count": 23,
   "source": [
    "import csv\n",
    "import os\n",
    "import random\n",
    "import sys\n",
    "\n",
    "import numpy as np\n",
    "import ROOT as r\n",
    "r.gROOT.ProcessLine(\".include /Users/isaac/Work/MG5_aMC_v3_1_0\")\n",
    "r.gInterpreter.Declare(\n",
    "    '#include \"/Users/isaac/Work/MG5_aMC_v3_1_0/ExRootAnalysis/\\\n",
    "ExRootAnalysis/ExRootTreeReader.h\"'\n",
    ")\n",
    "r.gInterpreter.Declare(\n",
    "    '#include \"/Users/isaac/Work/MG5_aMC_v3_1_0/\\\n",
    "ExRootAnalysis/ExRootAnalysis/ExRootClasses.h\"'\n",
    ")\n",
    "r.gInterpreter.Declare(\n",
    "    '#include \"/Users/isaac/Work/MG5_aMC_v3_1_0/ExRootAnalysis/\\\n",
    "ExRootAnalysis/ExRootLHEFReader.h\"'\n",
    ")\n",
    "r.gSystem.Load(\n",
    "    \"/Users/isaac/Work/MG5_aMC_v3_1_0/\\\n",
    "ExRootAnalysis/libExRootAnalysis.so\"\n",
    ")\n",
    "\n",
    "# -----------------------------------------------------------------\n",
    "# set up environment\n",
    "# -----------------------------------------------------------------\n",
    "os.environ[\"TERM\"] = \"linux\"\n",
    "random.seed(1)"
   ],
   "outputs": [],
   "metadata": {}
  },
  {
   "cell_type": "code",
   "execution_count": 29,
   "source": [
    "event_path = \"../../MG5_events/check_iftah/Events/\"\n",
    "chain2 = r.TChain(\"LHEF\")\n",
    "chain20 = r.TChain(\"LHEF\")\n",
    "chain200 = r.TChain(\"LHEF\")\n",
    "chain2.Add(os.path.join(event_path,\"X_2mev/unweighted_events.root\"))\n",
    "chain20.Add(os.path.join(event_path,\"X_20mev/unweighted_events.root\"))\n",
    "chain200.Add(os.path.join(event_path,\"X_200mev/unweighted_events.root\"))"
   ],
   "outputs": [
    {
     "output_type": "execute_result",
     "data": {
      "text/plain": [
       "1"
      ]
     },
     "metadata": {},
     "execution_count": 29
    }
   ],
   "metadata": {}
  },
  {
   "cell_type": "code",
   "execution_count": 19,
   "source": [
    "chain2.GetEntries()"
   ],
   "outputs": [
    {
     "output_type": "execute_result",
     "data": {
      "text/plain": [
       "100000"
      ]
     },
     "metadata": {},
     "execution_count": 19
    }
   ],
   "metadata": {}
  },
  {
   "cell_type": "code",
   "execution_count": 25,
   "source": [
    "mu_list_2 = []\n",
    "e_list_2 = []\n",
    "X_list_2 = []\n",
    "for event in chain2:\n",
    "    for particle in event.Particle:\n",
    "        if(particle.Status == 1 and particle.PID == 11):\n",
    "            electron_vector = r.TLorentzVector()\n",
    "            electron_vector.SetPtEtaPhiM(\n",
    "                particle.PT, particle.Eta, particle.Phi, particle.M)\n",
    "            theta_e = electron_vector.Theta()\n",
    "            E_e = particle.E\n",
    "        elif(particle.Status == 1 and particle.PID == 13):\n",
    "            muon_vector = r.TLorentzVector()\n",
    "            muon_vector.SetPtEtaPhiM(particle.PT, particle.Eta, particle.Phi, particle.M)\n",
    "            theta_mu = muon_vector.Theta()\n",
    "            E_mu = particle.E\n",
    "        elif(particle.PID == 103):\n",
    "            X_vector = r.TLorentzVector()\n",
    "            X_vector.SetPtEtaPhiM(particle.PT, particle.Eta, particle.Phi, particle.M)\n",
    "            theta_X = X_vector.Theta()\n",
    "            E_X = particle.E\n",
    "    mu_list_2.append([theta_mu, E_mu])\n",
    "    X_list_2.append([theta_X, E_X])\n",
    "    e_list_2.append([theta_e, E_e])\n",
    "\n",
    "efile_2 = open(\"2mev_e.csv\", \"w\")\n",
    "with efile_2:\n",
    "    data_writer = csv.writer(efile_2)\n",
    "    data_writer.writerows(e_list_2)\n",
    "mufile_2 = open(\"2mev_mu.csv\", \"w\")\n",
    "with mufile_2:\n",
    "    data_writer = csv.writer(mufile_2)\n",
    "    data_writer.writerows(mu_list_2)\n",
    "Xfile_2 = open(\"2mev_X.csv\", \"w\")\n",
    "with Xfile_2:\n",
    "    data_writer = csv.writer(Xfile_2)\n",
    "    data_writer.writerows(X_list_2)"
   ],
   "outputs": [],
   "metadata": {}
  },
  {
   "cell_type": "code",
   "execution_count": 26,
   "source": [
    "mu_list_20 = []\n",
    "e_list_20 = []\n",
    "X_list_20 = []\n",
    "for event in chain20:\n",
    "    for particle in event.Particle:\n",
    "        if(particle.Status == 1 and particle.PID == 11):\n",
    "            electron_vector = r.TLorentzVector()\n",
    "            electron_vector.SetPtEtaPhiM(\n",
    "                particle.PT, particle.Eta, particle.Phi, particle.M)\n",
    "            theta_e = electron_vector.Theta()\n",
    "            E_e = particle.E\n",
    "        elif(particle.Status == 1 and particle.PID == 13):\n",
    "            muon_vector = r.TLorentzVector()\n",
    "            muon_vector.SetPtEtaPhiM(particle.PT, particle.Eta, particle.Phi, particle.M)\n",
    "            theta_mu = muon_vector.Theta()\n",
    "            E_mu = particle.E\n",
    "        elif(particle.PID == 103):\n",
    "            X_vector = r.TLorentzVector()\n",
    "            X_vector.SetPtEtaPhiM(particle.PT, particle.Eta, particle.Phi, particle.M)\n",
    "            theta_X = X_vector.Theta()\n",
    "            E_X = particle.E\n",
    "    mu_list_20.append([theta_mu, E_mu])\n",
    "    X_list_20.append([theta_X, E_X])\n",
    "    e_list_20.append([theta_e, E_e])\n",
    "\n",
    "efile_20 = open(\"20mev_e.csv\", \"w\")\n",
    "with efile_20:\n",
    "    data_writer = csv.writer(efile_20)\n",
    "    data_writer.writerows(e_list_20)\n",
    "mufile_20 = open(\"20mev_mu.csv\", \"w\")\n",
    "with mufile_20:\n",
    "    data_writer = csv.writer(mufile_20)\n",
    "    data_writer.writerows(mu_list_20)\n",
    "Xfile_20 = open(\"20mev_X.csv\", \"w\")\n",
    "with Xfile_20:\n",
    "    data_writer = csv.writer(Xfile_20)\n",
    "    data_writer.writerows(X_list_20)"
   ],
   "outputs": [],
   "metadata": {}
  },
  {
   "cell_type": "code",
   "execution_count": 30,
   "source": [
    "mu_list_200 = []\n",
    "e_list_200 = []\n",
    "X_list_200 = []\n",
    "for event in chain200:\n",
    "    for particle in event.Particle:\n",
    "        if(particle.Status == 1 and particle.PID == 11):\n",
    "            electron_vector = r.TLorentzVector()\n",
    "            electron_vector.SetPtEtaPhiM(\n",
    "                particle.PT, particle.Eta, particle.Phi, particle.M)\n",
    "            theta_e = electron_vector.Theta()\n",
    "            E_e = particle.E\n",
    "        elif(particle.Status == 1 and particle.PID == 13):\n",
    "            muon_vector = r.TLorentzVector()\n",
    "            muon_vector.SetPtEtaPhiM(particle.PT, particle.Eta, particle.Phi, particle.M)\n",
    "            theta_mu = muon_vector.Theta()\n",
    "            E_mu = particle.E\n",
    "        elif(particle.PID == 103):\n",
    "            X_vector = r.TLorentzVector()\n",
    "            X_vector.SetPtEtaPhiM(particle.PT, particle.Eta, particle.Phi, particle.M)\n",
    "            theta_X = X_vector.Theta()\n",
    "            E_X = particle.E\n",
    "    mu_list_200.append([theta_mu, E_mu])\n",
    "    X_list_200.append([theta_X, E_X])\n",
    "    e_list_200.append([theta_e, E_e])\n",
    "\n",
    "efile_200 = open(\"200mev_e.csv\", \"w\")\n",
    "with efile_200:\n",
    "    data_writer = csv.writer(efile_200)\n",
    "    data_writer.writerows(e_list_200)\n",
    "mufile_200 = open(\"200mev_mu.csv\", \"w\")\n",
    "with mufile_200:\n",
    "    data_writer = csv.writer(mufile_200)\n",
    "    data_writer.writerows(mu_list_200)\n",
    "Xfile_200 = open(\"200mev_X.csv\", \"w\")\n",
    "with Xfile_200:\n",
    "    data_writer = csv.writer(Xfile_200)\n",
    "    data_writer.writerows(X_list_200)"
   ],
   "outputs": [],
   "metadata": {}
  },
  {
   "cell_type": "code",
   "execution_count": 7,
   "source": [
    "len(mu_list_2)"
   ],
   "outputs": [
    {
     "output_type": "execute_result",
     "data": {
      "text/plain": [
       "10000"
      ]
     },
     "metadata": {},
     "execution_count": 7
    }
   ],
   "metadata": {}
  },
  {
   "cell_type": "markdown",
   "source": [],
   "metadata": {}
  },
  {
   "cell_type": "code",
   "execution_count": 10,
   "source": [
    "chain_decay = r.TChain(\"LHEF\")\n",
    "chain_decay.Add(\"~/Work/MUonE/MG5_events/decay/Events/run_01/unweighted_events.root\")\n",
    "decay_theta_list = []\n",
    "for event in chain_decay:\n",
    "    for particle in event.Particle:\n",
    "        if particle.PID == 11:\n",
    "            electron_vector = r.TLorentzVector()\n",
    "            electron_vector.SetPtEtaPhiM(\n",
    "                particle.PT, particle.Eta, particle.Phi, particle.M)\n",
    "            theta_e = electron_vector.Theta()\n",
    "            costheta = np.cos(theta_e)\n",
    "    decay_theta_list.append(costheta)\n"
   ],
   "outputs": [],
   "metadata": {}
  },
  {
   "cell_type": "code",
   "execution_count": 13,
   "source": [
    "np.array(e_list_2)[0]"
   ],
   "outputs": [
    {
     "output_type": "error",
     "ename": "SyntaxError",
     "evalue": "invalid syntax (<ipython-input-13-d948a8298f48>, line 1)",
     "traceback": [
      "\u001b[0;36m  File \u001b[0;32m\"<ipython-input-13-d948a8298f48>\"\u001b[0;36m, line \u001b[0;32m1\u001b[0m\n\u001b[0;31m    np.array(e_list_2)[;0]\u001b[0m\n\u001b[0m                       ^\u001b[0m\n\u001b[0;31mSyntaxError\u001b[0m\u001b[0;31m:\u001b[0m invalid syntax\n"
     ]
    }
   ],
   "metadata": {}
  },
  {
   "cell_type": "code",
   "execution_count": 16,
   "source": [
    "from matplotlib import pyplot as plt\n",
    "e2_theta = [x[0] for x in e_list_2]\n",
    "e2_energy = [x[1] for x in e_list_2]\n",
    "plt.xscale('log')\n",
    "plt.yscale('log')\n",
    "plt.hist2d(e2_theta, e2_energy,)\n",
    "plt.colorbar()"
   ],
   "outputs": [
    {
     "output_type": "execute_result",
     "data": {
      "text/plain": [
       "<matplotlib.colorbar.Colorbar at 0x7f95ff765f70>"
      ]
     },
     "metadata": {},
     "execution_count": 16
    },
    {
     "output_type": "display_data",
     "data": {
      "image/png": "[encoded data removed]",
      "text/plain": [
       "<Figure size 432x288 with 2 Axes>"
      ]
     },
     "metadata": {
      "needs_background": "light"
     }
    }
   ],
   "metadata": {}
  },
  {
   "cell_type": "code",
   "execution_count": 28,
   "source": [
    "E200_list = [x[1] for x in X_list_200]\n",
    "from matplotlib import pyplot as plt\n",
    "plt.hist(E200_list)"
   ],
   "outputs": [
    {
     "output_type": "execute_result",
     "data": {
      "text/plain": [
       "(array([9.9854e+04, 6.8000e+01, 2.7000e+01, 1.5000e+01, 7.0000e+00,\n",
       "        9.0000e+00, 3.0000e+00, 9.0000e+00, 4.0000e+00, 4.0000e+00]),\n",
       " array([4.18115190e-03, 1.29555868e+01, 2.59069924e+01, 3.88583981e+01,\n",
       "        5.18098037e+01, 6.47612093e+01, 7.77126150e+01, 9.06640206e+01,\n",
       "        1.03615426e+02, 1.16566832e+02, 1.29518238e+02]),\n",
       " <BarContainer object of 10 artists>)"
      ]
     },
     "metadata": {},
     "execution_count": 28
    },
    {
     "output_type": "display_data",
     "data": {
      "image/png": "[encoded data removed]",
      "text/plain": [
       "<Figure size 432x288 with 1 Axes>"
      ]
     },
     "metadata": {
      "needs_background": "light"
     }
    }
   ],
   "metadata": {}
  },
  {
   "cell_type": "code",
   "execution_count": null,
   "source": [],
   "outputs": [],
   "metadata": {}
  }
 ],
 "metadata": {
  "orig_nbformat": 4,
  "language_info": {
   "name": "python",
   "version": "3.8.6",
   "mimetype": "text/x-python",
   "codemirror_mode": {
    "name": "ipython",
    "version": 3
   },
   "pygments_lexer": "ipython3",
   "nbconvert_exporter": "python",
   "file_extension": ".py"
  },
  "kernelspec": {
   "name": "python3",
   "display_name": "Python 3.8.6 64-bit ('py38': venv)"
  },
  "interpreter": {
   "hash": "9312b860057d0975421a3cc6334db90e626d73525ab409fb4d3ae6ab80916ddc"
  }
 },
 "nbformat": 4,
 "nbformat_minor": 2
}