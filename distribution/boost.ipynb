{
 "cells": [
  {
   "cell_type": "code",
   "execution_count": 2,
   "source": [
    "import csv\n",
    "import os\n",
    "import random\n",
    "import sys\n",
    "import numpy as np\n",
    "import ROOT as r\n",
    "r.gROOT.ProcessLine(\".include /Users/isaac/Work/MG5_aMC_v3_1_0\")\n",
    "r.gInterpreter.Declare(\n",
    "    '#include \"/Users/isaac/Work/MG5_aMC_v3_1_0/ExRootAnalysis/\\\n",
    "ExRootAnalysis/ExRootTreeReader.h\"'\n",
    ")\n",
    "r.gInterpreter.Declare(\n",
    "    '#include \"/Users/isaac/Work/MG5_aMC_v3_1_0/\\\n",
    "ExRootAnalysis/ExRootAnalysis/ExRootClasses.h\"'\n",
    ")\n",
    "r.gInterpreter.Declare(\n",
    "    '#include \"/Users/isaac/Work/MG5_aMC_v3_1_0/ExRootAnalysis/\\\n",
    "ExRootAnalysis/ExRootLHEFReader.h\"'\n",
    ")\n",
    "r.gSystem.Load(\n",
    "    \"/Users/isaac/Work/MG5_aMC_v3_1_0/\\\n",
    "ExRootAnalysis/libExRootAnalysis.so\"\n",
    ")\n",
    "os.environ[\"TERM\"] = \"linux\"\n",
    "random.seed(1)"
   ],
   "outputs": [
    {
     "output_type": "stream",
     "name": "stdout",
     "text": [
      "Welcome to JupyROOT 6.22/09\n"
     ]
    }
   ],
   "metadata": {}
  },
  {
   "cell_type": "code",
   "execution_count": 3,
   "source": [
    "mass_list = [2, 20, 200]\n",
    "coupling = 1.0e-04\n",
    "event_path = \"/Users/isaac/Work/MUonE/MG5_events/check_iftah/Events/\"\n",
    "\n",
    "total_gamma_list = []\n",
    "total_E_list = []\n",
    "for mass in mass_list:\n",
    "    chain = r.TChain(\"LHEF\")\n",
    "    chain.Reset()\n",
    "    E_list = []\n",
    "    root_file_subfolder = \"X_\" + str(mass) + \"mev\"\n",
    "    root_file_name = \"unweighted_events.root\"\n",
    "    root_file_path = os.path.join(event_path, root_file_subfolder, root_file_name)\n",
    "    chain.Add(root_file_path)\n",
    "    gamma_file_path = \"./\" + str(mass) + \"gamma.csv\"\n",
    "    beta_file_path = \"./\" + str(mass) + \"beta.csv\"\n",
    "    gamma_list = []\n",
    "    for event in chain:\n",
    "        for particle in event.Particle:\n",
    "            if particle.PID == 103:\n",
    "                E_X = particle.E\n",
    "                gamma = E_X/mass\n",
    "        gamma_list.append(gamma)\n",
    "        E_list.append(E_X)\n",
    "    total_E_list.append(E_list)\n",
    "    total_gamma_list.append(gamma_list)"
   ],
   "outputs": [],
   "metadata": {}
  },
  {
   "cell_type": "code",
   "execution_count": 15,
   "source": [
    "from matplotlib import pyplot as plt\n",
    "plt.yscale('log')\n",
    "plt.hist(total_gamma_list[0],bins=20)\n",
    "plt.hist(total_gamma_list[1],bins=20)\n",
    "plt.hist(total_gamma_list[2],bins=20)\n",
    "plt.hist(total_gamma_list[3],bins=20)\n"
   ],
   "outputs": [
    {
     "output_type": "execute_result",
     "data": {
      "text/plain": [
       "(array([2196.,  883.,  435.,  308.,  301.,  260.,  293.,  350.,  376.,\n",
       "         420.,  441.,  454.,  466.,  484.,  510.,  477.,  450.,  429.,\n",
       "         316.,  151.]),\n",
       " array([145.10882511, 184.82991604, 224.55100698, 264.27209791,\n",
       "        303.99318884, 343.71427977, 383.43537071, 423.15646164,\n",
       "        462.87755257, 502.59864351, 542.31973444, 582.04082537,\n",
       "        621.7619163 , 661.48300724, 701.20409817, 740.9251891 ,\n",
       "        780.64628004, 820.36737097, 860.0884619 , 899.80955283,\n",
       "        939.53064377]),\n",
       " <BarContainer object of 20 artists>)"
      ]
     },
     "metadata": {},
     "execution_count": 15
    },
    {
     "output_type": "display_data",
     "data": {
      "image/png": "[encoded data removed]",
      "text/plain": [
       "<Figure size 432x288 with 1 Axes>"
      ]
     },
     "metadata": {
      "needs_background": "light"
     }
    }
   ],
   "metadata": {}
  },
  {
   "cell_type": "code",
   "execution_count": null,
   "source": [],
   "outputs": [],
   "metadata": {}
  }
 ],
 "metadata": {
  "orig_nbformat": 4,
  "language_info": {
   "name": "python",
   "version": "3.8.6",
   "mimetype": "text/x-python",
   "codemirror_mode": {
    "name": "ipython",
    "version": 3
   },
   "pygments_lexer": "ipython3",
   "nbconvert_exporter": "python",
   "file_extension": ".py"
  },
  "kernelspec": {
   "name": "python3",
   "display_name": "Python 3.8.6 64-bit ('py38': venv)"
  },
  "interpreter": {
   "hash": "9312b860057d0975421a3cc6334db90e626d73525ab409fb4d3ae6ab80916ddc"
  }
 },
 "nbformat": 4,
 "nbformat_minor": 2
}