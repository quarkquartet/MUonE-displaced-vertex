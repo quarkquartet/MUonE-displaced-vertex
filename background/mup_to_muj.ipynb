{
 "cells": [
  {
   "cell_type": "markdown",
   "metadata": {},
   "source": [
    "# Background analysis with $\\mu p \\rightarrow \\mu K^0 + \\text{others}$"
   ]
  },
  {
   "cell_type": "code",
   "execution_count": 1,
   "metadata": {},
   "outputs": [
    {
     "name": "stdout",
     "output_type": "stream",
     "text": [
      "Welcome to JupyROOT 6.26/02\n"
     ]
    }
   ],
   "source": [
    "import numpy as np\n",
    "import ROOT as r"
   ]
  },
  {
   "cell_type": "code",
   "execution_count": 2,
   "metadata": {},
   "outputs": [
    {
     "data": {
      "text/plain": [
       "1"
      ]
     },
     "execution_count": 2,
     "metadata": {},
     "output_type": "execute_result"
    }
   ],
   "source": [
    "chain=r.TChain(\"Events\")\n",
    "chain.Add(\"/Users/isaac/Work/MUonE-displaced-vertex/mup_to_muj/tag_3_pythia8_events.root\")"
   ]
  },
  {
   "cell_type": "markdown",
   "metadata": {},
   "source": [
    "## Pick out event particles, especially events that contains 1 final state $K^0$"
   ]
  },
  {
   "cell_type": "markdown",
   "metadata": {},
   "source": [
    "Here we also need to delete the decay products of $K^0$"
   ]
  },
  {
   "cell_type": "code",
   "execution_count": 99,
   "metadata": {},
   "outputs": [],
   "source": [
    "event_info_list = [] # particles for the whole events\n",
    "K0event_info_list = [] # particles for events with 1 final state K0\n",
    "for event_id, event in enumerate(chain):\n",
    "    particle_id_list=[]\n",
    "    particle_status_list = []\n",
    "    particle_d1_list = [] # daughter 1 of particle, here it refers to the index of the particle list.\n",
    "    particle_d2_list = [] # daughter 2 of particle\n",
    "    particle_barcode_list = [] # Particle barcode, the first entry in hepmc. Actually do not need this number for analysis, but I just want it to be output if I would like to manually compare with the hepmc file.\n",
    "    particle_E_list = []\n",
    "    particle_px_list = []\n",
    "    particle_py_list = []\n",
    "    particle_pz_list = []\n",
    "    particle_mass_list = []\n",
    "    for id in event.Particle_pid:\n",
    "        particle_id_list.append(id)\n",
    "    for status in event.Particle_status:\n",
    "        particle_status_list.append(status)\n",
    "    for d1 in event.Particle_d1:\n",
    "        particle_d1_list.append(d1)\n",
    "    for d2 in event.Particle_d2:\n",
    "        particle_d2_list.append(d2)\n",
    "    for barcode in event.Particle_barcode:\n",
    "        particle_barcode_list.append(barcode)\n",
    "    for energy in event.Particle_energy:\n",
    "        particle_E_list.append(energy)\n",
    "    for px in event.Particle_px:\n",
    "        particle_px_list.append(px)\n",
    "    for py in event.Particle_py:\n",
    "        particle_py_list.append(py)\n",
    "    for pz in event.Particle_pz:\n",
    "        particle_pz_list.append(pz)\n",
    "    for mass in event.Particle_mass:\n",
    "        particle_mass_list.append(mass)\n",
    "\n",
    "    event_particles = np.array([particle_barcode_list,particle_id_list,particle_status_list, particle_d1_list, particle_d2_list, particle_E_list, particle_px_list, particle_py_list, particle_pz_list, particle_mass_list]).transpose().tolist()\n",
    "    event_info_list.append(event_particles)\n",
    "    K0_index_list=[]\n",
    "    for index, pid in enumerate(particle_id_list):\n",
    "        if pid==130:\n",
    "            K0_index_list.append(index)\n",
    "    K0_status_list = [particle_status_list[x] for x in K0_index_list]\n",
    "    if K0_status_list.count(1)==1:\n",
    "        K0event_particles = np.array([particle_barcode_list,particle_id_list,particle_status_list, particle_d1_list, particle_d2_list,particle_E_list, particle_px_list, particle_py_list, particle_pz_list, particle_mass_list]).transpose().tolist()\n",
    "        #for index, particle in enumerate(K0event_particles):\n",
    "        #    if particle[1] == 130 and particle[2]==2:\n",
    "        #        daughter_index = [particle[3],particle[4]]\n",
    "        #real_daughter = [i for i in daughter_index if i!=-1]\n",
    "        #for daughters in real_daughter:\n",
    "        #    del K0event_particles[int(daughters)]\n",
    "        K0event_info_list.append(K0event_particles)"
   ]
  },
  {
   "cell_type": "code",
   "execution_count": 100,
   "metadata": {},
   "outputs": [
    {
     "data": {
      "text/plain": [
       "9998"
      ]
     },
     "execution_count": 100,
     "metadata": {},
     "output_type": "execute_result"
    }
   ],
   "source": [
    "len(event_info_list)"
   ]
  },
  {
   "cell_type": "code",
   "execution_count": 101,
   "metadata": {},
   "outputs": [
    {
     "data": {
      "text/plain": [
       "887"
      ]
     },
     "execution_count": 101,
     "metadata": {},
     "output_type": "execute_result"
    }
   ],
   "source": [
    "len(K0event_info_list)"
   ]
  },
  {
   "cell_type": "code",
   "execution_count": 102,
   "metadata": {},
   "outputs": [
    {
     "data": {
      "text/plain": [
       "[[1.0,\n",
       "  13.0,\n",
       "  4.0,\n",
       "  0.0,\n",
       "  -1.0,\n",
       "  160.00846151213833,\n",
       "  -2.220446049250313e-16,\n",
       "  -2.6645352591003757e-15,\n",
       "  160.00842662636816,\n",
       "  0.10566],\n",
       " [4.0,\n",
       "  2.0,\n",
       "  21.0,\n",
       "  2.0,\n",
       "  3.0,\n",
       "  0.12841834616234285,\n",
       "  -8.326672684688674e-17,\n",
       "  3.3306690738754696e-16,\n",
       "  -0.12841834616234182,\n",
       "  0.0],\n",
       " [5.0,\n",
       "  13.0,\n",
       "  1.0,\n",
       "  -1.0,\n",
       "  -1.0,\n",
       "  113.46764362527337,\n",
       "  0.8633275049599003,\n",
       "  -4.0257494880502875,\n",
       "  113.3928701132266,\n",
       "  0.10566],\n",
       " [6.0,\n",
       "  2.0,\n",
       "  23.0,\n",
       "  6.0,\n",
       "  -1.0,\n",
       "  46.64628042045924,\n",
       "  -0.8633275049599007,\n",
       "  4.025749488050287,\n",
       "  46.4642172401813,\n",
       "  0.0],\n",
       " [2.0,\n",
       "  2212.0,\n",
       "  4.0,\n",
       "  4.0,\n",
       "  5.0,\n",
       "  0.9382700013119802,\n",
       "  -3.3306690738754696e-16,\n",
       "  1.3322676295501878e-15,\n",
       "  4.961859254493106e-05,\n",
       "  0.93827],\n",
       " [7.0,\n",
       "  2.0,\n",
       "  61.0,\n",
       "  1.0,\n",
       "  -1.0,\n",
       "  4.890875954632406,\n",
       "  -0.12155074237697647,\n",
       "  1.9562679318566167,\n",
       "  4.480949542163858,\n",
       "  0.0],\n",
       " [8.0,\n",
       "  2.0,\n",
       "  62.0,\n",
       "  7.0,\n",
       "  13.0,\n",
       "  44.87570681703754,\n",
       "  -0.8628373408131025,\n",
       "  5.389727434069277,\n",
       "  44.542512414977764,\n",
       "  0.0],\n",
       " [10.0,\n",
       "  211.0,\n",
       "  1.0,\n",
       "  -1.0,\n",
       "  -1.0,\n",
       "  2.026095694645683,\n",
       "  -0.0588304031397575,\n",
       "  0.4504468624485149,\n",
       "  1.969573706855998,\n",
       "  0.13957],\n",
       " [11.0,\n",
       "  -211.0,\n",
       "  1.0,\n",
       "  -1.0,\n",
       "  -1.0,\n",
       "  7.973967210407821,\n",
       "  -0.33412839561264396,\n",
       "  0.6065563808740311,\n",
       "  7.942614233350717,\n",
       "  0.13957],\n",
       " [12.0,\n",
       "  111.0,\n",
       "  2.0,\n",
       "  15.0,\n",
       "  16.0,\n",
       "  7.569503711727197,\n",
       "  -0.05559733064724623,\n",
       "  1.111590131826913,\n",
       "  7.486016507936763,\n",
       "  0.13498],\n",
       " [13.0,\n",
       "  321.0,\n",
       "  1.0,\n",
       "  -1.0,\n",
       "  -1.0,\n",
       "  22.6355598650078,\n",
       "  -0.41095900279066144,\n",
       "  2.841011344508574,\n",
       "  22.447374405447754,\n",
       "  0.49368],\n",
       " [14.0,\n",
       "  -311.0,\n",
       "  2.0,\n",
       "  14.0,\n",
       "  -1.0,\n",
       "  2.2763207109902943,\n",
       "  -0.13161250191943258,\n",
       "  -0.37227759886634704,\n",
       "  2.1858883333565253,\n",
       "  0.49761],\n",
       " [15.0,\n",
       "  2112.0,\n",
       "  1.0,\n",
       "  -1.0,\n",
       "  -1.0,\n",
       "  3.5759263616256933,\n",
       "  0.20629650844900194,\n",
       "  -0.42100811558693063,\n",
       "  3.41828194800857,\n",
       "  0.93957],\n",
       " [16.0,\n",
       "  223.0,\n",
       "  2.0,\n",
       "  17.0,\n",
       "  19.0,\n",
       "  1.3987585212043792,\n",
       "  -0.0784963792991609,\n",
       "  -0.1905695171544694,\n",
       "  1.14293606997985,\n",
       "  0.7795794495427084],\n",
       " [17.0,\n",
       "  130.0,\n",
       "  1.0,\n",
       "  -1.0,\n",
       "  -1.0,\n",
       "  2.2763207109902943,\n",
       "  -0.13161250191943258,\n",
       "  -0.37227759886634704,\n",
       "  2.1858883333565253,\n",
       "  0.49761],\n",
       " [18.0,\n",
       "  22.0,\n",
       "  1.0,\n",
       "  -1.0,\n",
       "  -1.0,\n",
       "  0.3566108481549874,\n",
       "  0.0194728764159221,\n",
       "  0.07017377965796068,\n",
       "  0.34909560976103016,\n",
       "  0.0],\n",
       " [19.0,\n",
       "  22.0,\n",
       "  1.0,\n",
       "  -1.0,\n",
       "  -1.0,\n",
       "  7.21289286357221,\n",
       "  -0.07507020706316833,\n",
       "  1.0414163521689523,\n",
       "  7.136920898175734,\n",
       "  0.0],\n",
       " [20.0,\n",
       "  211.0,\n",
       "  1.0,\n",
       "  -1.0,\n",
       "  -1.0,\n",
       "  0.8417536962498847,\n",
       "  0.03578579639145391,\n",
       "  -0.02425948200665662,\n",
       "  0.8289754848967137,\n",
       "  0.13957],\n",
       " [21.0,\n",
       "  -211.0,\n",
       "  1.0,\n",
       "  -1.0,\n",
       "  -1.0,\n",
       "  0.38623696098649424,\n",
       "  -0.011243287451281826,\n",
       "  -0.15281409807091764,\n",
       "  0.3259150887119873,\n",
       "  0.13957],\n",
       " [22.0,\n",
       "  111.0,\n",
       "  2.0,\n",
       "  20.0,\n",
       "  21.0,\n",
       "  0.17076786396800014,\n",
       "  -0.10303888823933297,\n",
       "  -0.013495937076895177,\n",
       "  -0.01195450362885081,\n",
       "  0.13498],\n",
       " [23.0,\n",
       "  22.0,\n",
       "  1.0,\n",
       "  -1.0,\n",
       "  -1.0,\n",
       "  0.06086709579023327,\n",
       "  -0.004169563745430475,\n",
       "  -0.010326293259353192,\n",
       "  -0.05983966707487663,\n",
       "  0.0],\n",
       " [24.0,\n",
       "  22.0,\n",
       "  1.0,\n",
       "  -1.0,\n",
       "  -1.0,\n",
       "  0.10990076817776687,\n",
       "  -0.09886932449390248,\n",
       "  -0.0031696438175419844,\n",
       "  0.04788516344602582,\n",
       "  0.0]]"
      ]
     },
     "execution_count": 102,
     "metadata": {},
     "output_type": "execute_result"
    }
   ],
   "source": [
    "K0event_info_list[0]"
   ]
  },
  {
   "cell_type": "markdown",
   "metadata": {},
   "source": [
    "## Require number of final state particles\n",
    "- The final state particle muon should count.\n",
    "- Beyond muon and K0, there should be only one final state particle. Do not care for now whether it carry positive or negative charge."
   ]
  },
  {
   "cell_type": "code",
   "execution_count": 103,
   "metadata": {},
   "outputs": [],
   "source": [
    "pass_event_info_list = []\n",
    "for event in K0event_info_list:\n",
    "    final_state_pass_cut = []\n",
    "    for particle in event:\n",
    "        if particle[2] == 1 and particle[1]!=13:\n",
    "            energy = particle[5]\n",
    "            px = particle[6]\n",
    "            py = particle[7]\n",
    "            pz = particle[8]\n",
    "            mass = particle[9]\n",
    "            tantheta = np.arctan(np.sqrt(px**2 + py**2)/pz)\n",
    "            if energy >= 5 and tantheta <= 0.05:\n",
    "                final_state_pass_cut.append(particle)\n",
    "    if len(final_state_pass_cut) == 1:\n",
    "        pass_event_info_list.append(event)"
   ]
  },
  {
   "cell_type": "code",
   "execution_count": 104,
   "metadata": {},
   "outputs": [
    {
     "data": {
      "text/plain": [
       "147"
      ]
     },
     "execution_count": 104,
     "metadata": {},
     "output_type": "execute_result"
    }
   ],
   "source": [
    "len(pass_event_info_list)"
   ]
  },
  {
   "cell_type": "code",
   "execution_count": 144,
   "metadata": {},
   "outputs": [
    {
     "data": {
      "text/plain": [
       "[[1.0,\n",
       "  13.0,\n",
       "  4.0,\n",
       "  0.0,\n",
       "  -1.0,\n",
       "  160.00846151175912,\n",
       "  1.1102230246251565e-15,\n",
       "  -2.6645352591003757e-15,\n",
       "  160.00842662598902,\n",
       "  0.10566],\n",
       " [4.0,\n",
       "  2.0,\n",
       "  21.0,\n",
       "  2.0,\n",
       "  3.0,\n",
       "  0.07140986756000786,\n",
       "  1.3877787807814457e-17,\n",
       "  -1.6653345369377348e-16,\n",
       "  -0.071409867560001,\n",
       "  0.0],\n",
       " [5.0,\n",
       "  13.0,\n",
       "  1.0,\n",
       "  -1.0,\n",
       "  -1.0,\n",
       "  110.31067283859934,\n",
       "  -1.0343143872966958,\n",
       "  2.9517057762172243,\n",
       "  110.266273197328,\n",
       "  0.10566],\n",
       " [6.0,\n",
       "  2.0,\n",
       "  23.0,\n",
       "  4.0,\n",
       "  5.0,\n",
       "  49.7462427289121,\n",
       "  1.0343143872966962,\n",
       "  -2.9517057762172243,\n",
       "  49.64782263506343,\n",
       "  0.0],\n",
       " [7.0,\n",
       "  2.0,\n",
       "  51.0,\n",
       "  9.0,\n",
       "  -1.0,\n",
       "  34.85986022198622,\n",
       "  0.1568267137985176,\n",
       "  -2.1144127745333625,\n",
       "  34.79532323024383,\n",
       "  0.0],\n",
       " [8.0,\n",
       "  21.0,\n",
       "  51.0,\n",
       "  10.0,\n",
       "  -1.0,\n",
       "  14.894173630627886,\n",
       "  0.8774876734981787,\n",
       "  -0.8372930016838612,\n",
       "  14.844708281117587,\n",
       "  0.0],\n",
       " [9.0,\n",
       "  2.0,\n",
       "  53.0,\n",
       "  1.0,\n",
       "  -1.0,\n",
       "  0.07920099126201141,\n",
       "  1.942890293094024e-16,\n",
       "  -5.551115123125783e-17,\n",
       "  -0.07920099126201063,\n",
       "  0.0],\n",
       " [2.0,\n",
       "  2212.0,\n",
       "  4.0,\n",
       "  7.0,\n",
       "  8.0,\n",
       "  0.9382700013120132,\n",
       "  0.0,\n",
       "  -2.220446049250313e-16,\n",
       "  4.9618590361788506e-05,\n",
       "  0.93827],\n",
       " [10.0,\n",
       "  2.0,\n",
       "  61.0,\n",
       "  6.0,\n",
       "  -1.0,\n",
       "  0.652525440340689,\n",
       "  0.05122700099111735,\n",
       "  -0.45256231216306225,\n",
       "  0.4672821399014597,\n",
       "  0.0],\n",
       " [11.0,\n",
       "  2.0,\n",
       "  62.0,\n",
       "  11.0,\n",
       "  16.0,\n",
       "  34.83925480637134,\n",
       "  0.18283322478578007,\n",
       "  -2.394881946378064,\n",
       "  34.756363272616646,\n",
       "  0.0],\n",
       " [12.0,\n",
       "  21.0,\n",
       "  62.0,\n",
       "  11.0,\n",
       "  16.0,\n",
       "  14.892335903009892,\n",
       "  0.8891677788178467,\n",
       "  -0.9620751049949565,\n",
       "  14.834603493236296,\n",
       "  0.0],\n",
       " [14.0,\n",
       "  321.0,\n",
       "  1.0,\n",
       "  -1.0,\n",
       "  -1.0,\n",
       "  19.524139931661225,\n",
       "  0.7790695457780268,\n",
       "  -1.1049562292213362,\n",
       "  19.471015446119765,\n",
       "  0.49368],\n",
       " [15.0,\n",
       "  221.0,\n",
       "  2.0,\n",
       "  18.0,\n",
       "  19.0,\n",
       "  17.073275777875086,\n",
       "  -0.4209933247911755,\n",
       "  -1.1628728059697064,\n",
       "  17.01960920886533,\n",
       "  0.54785],\n",
       " [16.0,\n",
       "  -311.0,\n",
       "  2.0,\n",
       "  17.0,\n",
       "  -1.0,\n",
       "  1.368981065470297,\n",
       "  -0.11079080262060362,\n",
       "  -0.11003372956373786,\n",
       "  1.2657454017017653,\n",
       "  0.49761],\n",
       " [17.0,\n",
       "  -211.0,\n",
       "  1.0,\n",
       "  -1.0,\n",
       "  -1.0,\n",
       "  9.343507491599105,\n",
       "  0.7189271566470659,\n",
       "  -0.5326860235708764,\n",
       "  9.299518364108769,\n",
       "  0.13957],\n",
       " [18.0,\n",
       "  2212.0,\n",
       "  1.0,\n",
       "  -1.0,\n",
       "  -1.0,\n",
       "  2.7412783157542036,\n",
       "  0.29857522822313665,\n",
       "  -0.5101413447633194,\n",
       "  2.506963273161132,\n",
       "  0.93827],\n",
       " [19.0,\n",
       "  111.0,\n",
       "  2.0,\n",
       "  20.0,\n",
       "  21.0,\n",
       "  0.5619202803042209,\n",
       "  -0.23047341593975418,\n",
       "  0.46898435687175166,\n",
       "  0.15643042725705567,\n",
       "  0.13498],\n",
       " [20.0,\n",
       "  130.0,\n",
       "  1.0,\n",
       "  -1.0,\n",
       "  -1.0,\n",
       "  1.368981065470297,\n",
       "  -0.11079080262060362,\n",
       "  -0.11003372956373786,\n",
       "  1.2657454017017653,\n",
       "  0.49761],\n",
       " [21.0,\n",
       "  22.0,\n",
       "  1.0,\n",
       "  -1.0,\n",
       "  -1.0,\n",
       "  10.66593585632431,\n",
       "  -0.336830297629414,\n",
       "  -0.9806826231407569,\n",
       "  10.61541306942378,\n",
       "  0.0],\n",
       " [22.0,\n",
       "  22.0,\n",
       "  1.0,\n",
       "  -1.0,\n",
       "  -1.0,\n",
       "  6.407339921550776,\n",
       "  -0.08416302716176151,\n",
       "  -0.1821901828289494,\n",
       "  6.404196139441547,\n",
       "  0.0],\n",
       " [23.0,\n",
       "  22.0,\n",
       "  1.0,\n",
       "  -1.0,\n",
       "  -1.0,\n",
       "  0.5226265415352594,\n",
       "  -0.19403455910973355,\n",
       "  0.45659454111538306,\n",
       "  0.1643487657751972,\n",
       "  0.0],\n",
       " [24.0,\n",
       "  22.0,\n",
       "  1.0,\n",
       "  -1.0,\n",
       "  -1.0,\n",
       "  0.03929373876896142,\n",
       "  -0.03643885683002066,\n",
       "  0.012389815756368647,\n",
       "  -0.007918338518141495,\n",
       "  0.0]]"
      ]
     },
     "execution_count": 144,
     "metadata": {},
     "output_type": "execute_result"
    }
   ],
   "source": [
    "pass_event_info_list[0]"
   ]
  },
  {
   "cell_type": "markdown",
   "metadata": {},
   "source": [
    "## Now add cuts to K0 and muon\n",
    "- Both should be within the angular acceptance\n",
    "- Least energy cuts: muon is 5, K0 is 10 since K0 should have its decayed pion to have more than 5.\n",
    "- Opening angle cut"
   ]
  },
  {
   "cell_type": "code",
   "execution_count": 145,
   "metadata": {},
   "outputs": [],
   "source": [
    "second = 3e08\n",
    "m_K0 = 0.497611\n",
    "K0_life_time = 5.116e-08*second\n",
    "branching_to_pionpair = 1.967e-03\n",
    "# Use as length unit\n",
    "l1 = 0.02\n",
    "l2 = 0.145\n",
    "event_number = 0\n",
    "K0p_list = []\n",
    "for event in pass_event_info_list:\n",
    "    for particle in event:\n",
    "        if particle[2]==1 and particle[1]==13:\n",
    "            muon_energy = particle[5]\n",
    "            px = particle[6]\n",
    "            py = particle[7]\n",
    "            pz = particle[8]\n",
    "            mass = particle[9]\n",
    "            muon_tantheta = np.arctan(np.sqrt(px**2 + py**2)/pz)\n",
    "        if particle[2]==1 and particle[1]==130:\n",
    "            K0_energy = particle[5]\n",
    "            K0_px = particle[6]\n",
    "            K0_py = particle[7]\n",
    "            K0_pz = particle[8]\n",
    "            K0_tantheta = np.arctan(np.sqrt(px**2 + py**2)/pz)\n",
    "    K0p_list.append(np.sqrt(K0_px**2 + K0_py**2 + K0_pz**2))\n",
    "    opening_angle = 2*m_K0/K0_energy\n",
    "    decay_distance = np.sqrt(K0_px**2 + K0_py**2 + K0_pz**2)*K0_life_time/m_K0\n",
    "    prob = np.exp(-l1/decay_distance)*(1-np.exp(-(l2-l1)/decay_distance))\n",
    "    if muon_energy >= 5 and muon_tantheta <= 0.05 and K0_energy >= 10 and K0_tantheta <= 0.05 and opening_angle >= 0.001:\n",
    "        event_number += prob"
   ]
  },
  {
   "cell_type": "code",
   "execution_count": 146,
   "metadata": {},
   "outputs": [
    {
     "data": {
      "text/plain": [
       "0.7582615464731489"
      ]
     },
     "execution_count": 146,
     "metadata": {},
     "output_type": "execute_result"
    }
   ],
   "source": [
    "event_number/9998*3e04*1.5e04*branching_to_pionpair"
   ]
  },
  {
   "cell_type": "code",
   "execution_count": 142,
   "metadata": {},
   "outputs": [],
   "source": [
    "second = 3e08\n",
    "m_K0 = 0.497611\n",
    "K0_life_time = 5.116e-08*second\n",
    "branching_to_pionpair = 1.967e-03\n",
    "# Use as length unit\n",
    "l1 = 0.025\n",
    "l2 = 0.14\n",
    "event_number = 0\n",
    "K0p_list = []\n",
    "for event in pass_event_info_list:\n",
    "    for particle in event:\n",
    "        if particle[2]==1 and particle[1]==13:\n",
    "            muon_energy = particle[5]\n",
    "            px = particle[6]\n",
    "            py = particle[7]\n",
    "            pz = particle[8]\n",
    "            mass = particle[9]\n",
    "            muon_tantheta = np.arctan(np.sqrt(px**2 + py**2)/pz)\n",
    "        if particle[2]==1 and particle[1]==130:\n",
    "            K0_energy = particle[5]\n",
    "            K0_px = particle[6]\n",
    "            K0_py = particle[7]\n",
    "            K0_pz = particle[8]\n",
    "            K0_tantheta = np.arctan(np.sqrt(px**2 + py**2)/pz)\n",
    "    K0p_list.append(np.sqrt(K0_px**2 + K0_py**2 + K0_pz**2))\n",
    "    opening_angle = 2*m_K0/K0_energy\n",
    "    decay_distance = np.sqrt(K0_px**2 + K0_py**2 + K0_pz**2)*K0_life_time/m_K0\n",
    "    prob = np.exp(-l1/decay_distance)*(1-np.exp(-(l2-l1)/decay_distance))\n",
    "    if muon_energy >= 5 and muon_tantheta <= 0.05 and K0_energy >= 10 and K0_tantheta <= 0.05 and opening_angle >= 0.001:\n",
    "        event_number += prob"
   ]
  },
  {
   "cell_type": "code",
   "execution_count": 143,
   "metadata": {},
   "outputs": [
    {
     "data": {
      "text/plain": [
       "0.6976006224044409"
      ]
     },
     "execution_count": 143,
     "metadata": {},
     "output_type": "execute_result"
    }
   ],
   "source": [
    "event_number/9998*3e04*1.5e04*branching_to_pionpair"
   ]
  },
  {
   "cell_type": "code",
   "execution_count": 131,
   "metadata": {},
   "outputs": [],
   "source": [
    "from matplotlib import pyplot as plt"
   ]
  },
  {
   "cell_type": "code",
   "execution_count": 134,
   "metadata": {},
   "outputs": [],
   "source": [
    "paverage=sum(K0p_list)/len(K0p_list)\n",
    "print(paverage)"
   ]
  },
  {
   "cell_type": "code",
   "execution_count": 135,
   "metadata": {},
   "outputs": [
    {
     "data": {
      "text/plain": [
       "8.726786878218289e-07"
      ]
     },
     "execution_count": 135,
     "metadata": {},
     "output_type": "execute_result"
    }
   ],
   "source": [
    "paverage*K0_life_time/m_K0"
   ]
  },
  {
   "cell_type": "code",
   "execution_count": 116,
   "metadata": {},
   "outputs": [],
   "source": [
    "event_number = 0\n",
    "for event in pass_event_info_list:    \n",
    "    for particle in event:\n",
    "        if particle[2]==1 and particle[1]==13:\n",
    "            muon_energy = particle[5]\n",
    "            px = particle[6]\n",
    "            py = particle[7]\n",
    "            pz = particle[8]\n",
    "            mass = particle[9]\n",
    "            muon_tantheta = np.arctan(np.sqrt(px**2 + py**2)/pz)\n",
    "        if particle[2]==1 and particle[1]==130:\n",
    "            K0_energy = particle[5]\n",
    "            K0_px = particle[6]\n",
    "            K0_py = particle[7]\n",
    "            K0_pz = particle[8]\n",
    "            K0_tantheta = np.arctan(np.sqrt(px**2 + py**2)/pz)"
   ]
  },
  {
   "cell_type": "code",
   "execution_count": 121,
   "metadata": {},
   "outputs": [],
   "source": [
    "dbar = 1000*np.sqrt(K0_px**2 + K0_py**2 + K0_pz**2)*K0_life_time/m_K0"
   ]
  },
  {
   "cell_type": "code",
   "execution_count": 122,
   "metadata": {},
   "outputs": [
    {
     "name": "stderr",
     "output_type": "stream",
     "text": [
      "/var/folders/f3/5638tcs57qd4mv3__k9pyl140000gn/T/ipykernel_36153/1485693572.py:1: RuntimeWarning: overflow encountered in exp\n",
      "  np.exp(125/dbar)\n"
     ]
    },
    {
     "data": {
      "text/plain": [
       "inf"
      ]
     },
     "execution_count": 122,
     "metadata": {},
     "output_type": "execute_result"
    }
   ],
   "source": [
    "np.exp(125/dbar)"
   ]
  },
  {
   "cell_type": "code",
   "execution_count": 123,
   "metadata": {},
   "outputs": [
    {
     "data": {
      "text/plain": [
       "913465.7382193677"
      ]
     },
     "execution_count": 123,
     "metadata": {},
     "output_type": "execute_result"
    }
   ],
   "source": [
    "second = 3e08"
   ]
  },
  {
   "cell_type": "code",
   "execution_count": 127,
   "metadata": {},
   "outputs": [
    {
     "data": {
      "text/plain": [
       "0.07427029940763681"
      ]
     },
     "execution_count": 127,
     "metadata": {},
     "output_type": "execute_result"
    }
   ],
   "source": [
    "10/decay_rate(0.01,1.0e-4)/0.01"
   ]
  },
  {
   "cell_type": "code",
   "execution_count": null,
   "metadata": {},
   "outputs": [],
   "source": []
  }
 ],
 "metadata": {
  "interpreter": {
   "hash": "d1fdd9000e0c5e4509e568fa85b190da3365b3c2a27cc0fa2efb4d17d7059255"
  },
  "kernelspec": {
   "display_name": "Python 3.9.10 ('base')",
   "language": "python",
   "name": "python3"
  },
  "language_info": {
   "codemirror_mode": {
    "name": "ipython",
    "version": 3
   },
   "file_extension": ".py",
   "mimetype": "text/x-python",
   "name": "python",
   "nbconvert_exporter": "python",
   "pygments_lexer": "ipython3",
   "version": "3.9.10"
  },
  "orig_nbformat": 4
 },
 "nbformat": 4,
 "nbformat_minor": 2
}
