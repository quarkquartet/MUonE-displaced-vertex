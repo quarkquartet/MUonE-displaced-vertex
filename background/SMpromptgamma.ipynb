{
 "cells": [
  {
   "cell_type": "code",
   "execution_count": 1,
   "metadata": {},
   "outputs": [],
   "source": [
    "import pylhe\n",
    "import numpy as np\n",
    "import matplotlib.pyplot as plt\n",
    "import os"
   ]
  },
  {
   "cell_type": "code",
   "execution_count": 3,
   "metadata": {},
   "outputs": [],
   "source": [
    "l1 = 1.5*0.01 + 5*0.001\n",
    "l2 = 15.0*0.01 - 5*0.001\n",
    "m_e = 0.000511\n",
    "m_mu = 0.105\n",
    "luminosity = 1.5e+04\n",
    "ee = np.sqrt(4*np.pi/137.)\n",
    "xsec = 3.488e+07"
   ]
  },
  {
   "cell_type": "code",
   "execution_count": 4,
   "metadata": {},
   "outputs": [],
   "source": [
    "lhefile = \"/Users/isaac/Work/MUonE-displaced-vertex/SM2to4gamma/Events/run_01/unweighted_events.lhe\"\n",
    "four_momentum = np.zeros((10000,4,4), dtype=\"float64\")"
   ]
  },
  {
   "cell_type": "code",
   "execution_count": 21,
   "metadata": {},
   "outputs": [],
   "source": [
    "for ievent, event in enumerate(pylhe.readLHE(lhefile)):\n",
    "    for particle in event.particles:\n",
    "        if particle.id == 13 and particle.status == 1:\n",
    "            four_momentum[ievent,0] = np.array([particle.e, particle.px, particle.py, particle.pz])\n",
    "        if particle.id == -11:\n",
    "            four_momentum[ievent,3] = np.array([particle.e, particle.px, particle.py, particle.pz]) \n",
    "        if particle.id == 11 and particle.status == 1:\n",
    "            four_momentum[ievent,1:3] = np.array([particle.e, particle.px, particle.py, particle.pz])"
   ]
  },
  {
   "cell_type": "code",
   "execution_count": 23,
   "metadata": {},
   "outputs": [],
   "source": [
    "conv_data = np.zeros((10000,18), dtype=\"float64\")\n",
    "# muon\n",
    "conv_data[:,0] = four_momentum[:,0,0] # muon energy\n",
    "conv_data[:,1] = np.linalg.norm(four_momentum[:,0,1:4], axis=1) # muon p\n",
    "conv_data[:,2] = np.arccos(four_momentum[:,0,3]/conv_data[:,1]) # muon theta\n",
    "conv_data[:,3] = np.arctan2(four_momentum[:,0,2], four_momentum[:,0,1]) # muon phi\n",
    "\n",
    "# electron 1\n",
    "conv_data[:,4] = four_momentum[:,1,0] # electron 1 energy\n",
    "conv_data[:,5] = np.linalg.norm(four_momentum[:,1,1:4], axis=1) # electron 1 p\n",
    "conv_data[:,6] = np.arccos(four_momentum[:,1,3]/conv_data[:,5]) # electron 1 theta\n",
    "conv_data[:,7] = np.arctan2(four_momentum[:,1,2], four_momentum[:,1,1]) # electron 1 phi\n",
    "\n",
    "# electron 2\n",
    "conv_data[:,8] = four_momentum[:,2,0] # electron 2 energy\n",
    "conv_data[:,9] = np.linalg.norm(four_momentum[:,2,1:4], axis=1) # electron 2 p\n",
    "conv_data[:,10] = np.arccos(four_momentum[:,2,3]/conv_data[:,9]) # electron 2 theta\n",
    "conv_data[:,11] = np.arctan2(four_momentum[:,2,2], four_momentum[:,2,1]) # electron 2 phi\n",
    "\n",
    "# positron\n",
    "conv_data[:,12] = four_momentum[:,3,0] # positron energy\n",
    "conv_data[:,13] = np.linalg.norm(four_momentum[:,3,1:4], axis=1) # positron p\n",
    "conv_data[:,14] = np.arccos(four_momentum[:,3,3]/conv_data[:,13]) # positron theta\n",
    "conv_data[:,15] = np.arctan2(four_momentum[:,3,2], four_momentum[:,3,1]) # positron phi\n",
    "\n",
    "# angle between positron and electron\n",
    "conv_data[:,16] = np.arccos(np.einsum(\"ij,ij->i\", four_momentum[:,1,1:4], four_momentum[:,3,1:4])/(conv_data[:,5]*conv_data[:,13])) # positron and electron 1\n",
    "conv_data[:,17] = np.arccos(np.einsum(\"ij,ij->i\", four_momentum[:,2,1:4],four_momentum[:,3,1:4])/(conv_data[:,9]*conv_data[:,13])) # positron and electron 2"
   ]
  },
  {
   "cell_type": "markdown",
   "metadata": {},
   "source": [
    "## Cuts\n",
    "- 5 GeV lowest energy\n",
    "- angular acceptance"
   ]
  },
  {
   "cell_type": "code",
   "execution_count": 46,
   "metadata": {},
   "outputs": [],
   "source": [
    "selection = ((conv_data[:,0] >=5.)& (conv_data[:,4] >= 5.)& (conv_data[:,8]>=5.)& (conv_data[:,12]>=5.)& (conv_data[:,2]<=0.05)& (conv_data[:,6] <= 0.05)&(conv_data[:,10]<=0.05)& (conv_data[:,14]<=0.05)&(conv_data[:,16] >= 0.001)& (conv_data[:,17]>=0.001))\n",
    "passnumber = conv_data[selection]"
   ]
  },
  {
   "cell_type": "markdown",
   "metadata": {},
   "source": [
    "Use the tracking layers:"
   ]
  },
  {
   "cell_type": "code",
   "execution_count": 40,
   "metadata": {},
   "outputs": [
    {
     "data": {
      "text/plain": [
       "1342.008"
      ]
     },
     "execution_count": 40,
     "metadata": {},
     "output_type": "execute_result"
    }
   ],
   "source": [
    "(len(passnumber)/10000.0)*luminosity*xsec*2.85e-07 # The last number is the probability corresponds to the 5 sigma"
   ]
  },
  {
   "cell_type": "code",
   "execution_count": 47,
   "metadata": {},
   "outputs": [
    {
     "data": {
      "text/plain": [
       "0.009"
      ]
     },
     "execution_count": 47,
     "metadata": {},
     "output_type": "execute_result"
    }
   ],
   "source": [
    "(len(passnumber)/10000.0)"
   ]
  },
  {
   "cell_type": "markdown",
   "metadata": {},
   "source": [
    "If forcing to enter the ECAL, only keep the last 5 modules"
   ]
  },
  {
   "cell_type": "code",
   "execution_count": 42,
   "metadata": {},
   "outputs": [],
   "source": [
    "selection = []\n",
    "for i in range(0,5):\n",
    "    selection.append(((conv_data[:,0] >=5.)& (conv_data[:,4] >= 5.)& (conv_data[:,8]>=5.)& (conv_data[:,12]>=5.)& (conv_data[:,2]<=0.05/float(i+1))& (conv_data[:,6] <= 0.05/float(i+1))&(conv_data[:,10]<=0.05/float(i+1))& (conv_data[:,14]<=0.05/float(i+1))&(conv_data[:,16] >= 0.001)& (conv_data[:,17]>=0.001)))\n"
   ]
  },
  {
   "cell_type": "code",
   "execution_count": 44,
   "metadata": {},
   "outputs": [
    {
     "data": {
      "text/plain": [
       "165.8871"
      ]
     },
     "execution_count": 44,
     "metadata": {},
     "output_type": "execute_result"
    }
   ],
   "source": [
    "sum([(len(conv_data[selection[i]])/10000.0) for i in range(0,5)])/5 *(luminosity*5./40.)*xsec*2.85e-07"
   ]
  },
  {
   "cell_type": "code",
   "execution_count": 45,
   "metadata": {},
   "outputs": [
    {
     "data": {
      "text/plain": [
       "0.0089"
      ]
     },
     "execution_count": 45,
     "metadata": {},
     "output_type": "execute_result"
    }
   ],
   "source": [
    "sum([(len(conv_data[selection[i]])/10000.0) for i in range(0,5)])/5"
   ]
  },
  {
   "cell_type": "code",
   "execution_count": null,
   "metadata": {},
   "outputs": [],
   "source": []
  }
 ],
 "metadata": {
  "interpreter": {
   "hash": "c4f6be21fc92d2a00f9ca51bcfc707caddf6cb807b3396ca594a2548e90cdcf4"
  },
  "kernelspec": {
   "display_name": "Python 3.9.7 ('base')",
   "language": "python",
   "name": "python3"
  },
  "language_info": {
   "codemirror_mode": {
    "name": "ipython",
    "version": 3
   },
   "file_extension": ".py",
   "mimetype": "text/x-python",
   "name": "python",
   "nbconvert_exporter": "python",
   "pygments_lexer": "ipython3",
   "version": "3.9.7"
  },
  "orig_nbformat": 4
 },
 "nbformat": 4,
 "nbformat_minor": 2
}
