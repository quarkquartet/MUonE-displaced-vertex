{
 "cells": [
  {
   "cell_type": "code",
   "execution_count": 39,
   "metadata": {
    "collapsed": false,
    "jupyter": {
     "outputs_hidden": false
    }
   },
   "outputs": [],
   "source": [
    "import numpy as np\n",
    "import ROOT as r\n",
    "import random\n",
    "import os\n",
    "import matplotlib.pyplot as plt\n",
    "# -----------------------------------------------------------------\n",
    "# Import ROOT libraries for MadGraph generated rootfiles.\n",
    "# -----------------------------------------------------------------\n",
    "r.gROOT.ProcessLine(\".include /Users/isaac/Work/MG5_aMC_v2_8_3_2\")\n",
    "r.gInterpreter.Declare(\n",
    "    '#include \"/Users/isaac/Work/MG5_aMC_v2_8_3_2/ExRootAnalysis/\\\n",
    "ExRootAnalysis/ExRootTreeReader.h\"'\n",
    ")\n",
    "r.gInterpreter.Declare(\n",
    "    '#include \"/Users/isaac/Work/MG5_aMC_v2_8_3_2/\\\n",
    "ExRootAnalysis/ExRootAnalysis/ExRootClasses.h\"'\n",
    ")\n",
    "r.gInterpreter.Declare(\n",
    "    '#include \"/Users/isaac/Work/MG5_aMC_v2_8_3_2/ExRootAnalysis/\\\n",
    "ExRootAnalysis/ExRootLHEFReader.h\"'\n",
    ")\n",
    "r.gSystem.Load(\n",
    "    \"/Users/isaac/Work/MG5_aMC_v2_8_3_2/\\\n",
    "ExRootAnalysis/libExRootAnalysis.so\"\n",
    ")\n",
    "\n",
    "# -----------------------------------------------------------------\n",
    "# set up environment\n",
    "# -----------------------------------------------------------------\n",
    "\n",
    "os.environ[\"TERM\"] = \"linux\"\n",
    "random.seed(1)"
   ]
  },
  {
   "cell_type": "code",
   "execution_count": 40,
   "metadata": {
    "collapsed": false,
    "jupyter": {
     "outputs_hidden": false
    }
   },
   "outputs": [
    {
     "data": {
      "text/plain": [
       "1"
      ]
     },
     "execution_count": 40,
     "metadata": {},
     "output_type": "execute_result"
    }
   ],
   "source": [
    "luminosity = 1.5e04\n",
    "event_path = \"/Users/isaac/Work/MUonE/MG5_events/lepton2to3vec/Events/\"\n",
    "m_e = 5.11e-04\n",
    "meter = 1\n",
    "GeV = 1 / (1.97 * meter * 1.0e-16)\n",
    "Radius = 0.05\n",
    "angle_cut=0.001\n",
    "L_min=0.02\n",
    "L_max=0.145\n",
    "x_sec=7.4e+08\n",
    "chain = r.TChain(\"LHEF\")\n",
    "chain.Add(\"~/Work/MUonE/MG5_events/lepton2to3vec/Events/X_mass_0.01/unweighted_events.root\")"
   ]
  },
  {
   "cell_type": "code",
   "execution_count": 20,
   "metadata": {
    "collapsed": false,
    "jupyter": {
     "outputs_hidden": false
    }
   },
   "outputs": [],
   "source": [
    "def decay_rate(mass, g_e):\n",
    "    alpha_e = (g_e ** 2) / (4 * np.pi)\n",
    "    return (\n",
    "        alpha_e\n",
    "        * mass\n",
    "        * (1 + 2 * ((m_e ** 2) / (mass ** 2)))\n",
    "        * np.sqrt(1 - 4 * ((m_e ** 2) / (mass ** 2)))\n",
    "        * GeV\n",
    "        / 3\n",
    "    )\n",
    "\n",
    "\n",
    "def distance(momentum, mass, g_e):\n",
    "    return momentum / (decay_rate(mass, g_e) * mass)\n",
    "\n",
    "\n",
    "def probability(momentum, theta, mass, g_e):\n",
    "    \"\"\"This function calculates the probability for one\n",
    "    single X particle to travel into the detectable region.\n",
    "    open angle cuts is not applied here.\"\"\"\n",
    "    travel_distance = distance(momentum, mass, g_e)\n",
    "    # Here loop over all the targets\n",
    "    if L_max * np.tan(theta) <= Radius:\n",
    "        L_prob = np.exp(-L_min / travel_distance) * (\n",
    "            1.0 - np.exp((L_min - L_max) / travel_distance)\n",
    "        )\n",
    "    else:\n",
    "        L_prob = 0.0\n",
    "    return L_prob\n",
    "\n",
    "\n",
    "def read_x_section(mass):\n",
    "    \"\"\"Read the cross section from madgraph banner file\"\"\"\n",
    "    banner_file_subfolder = \"X_mass_\" + str(mass)\n",
    "    banner_file_name = \"X_mass_\" + str(mass) + \"_tag_1_banner.txt\"\n",
    "    banner_file_path = os.path.join(event_path, banner_file_subfolder, banner_file_name)\n",
    "    with open(banner_file_path) as banner_file:\n",
    "        for line in banner_file:\n",
    "            if line.startswith(\"#  Integrated weight (pb)\"):\n",
    "                for x in line:\n",
    "                    if x in [\"0\", \"1\", \"2\", \"3\", \"4\", \"5\", \"6\", \"7\", \"8\", \"9\"]:\n",
    "                        index = line.index(x)\n",
    "                        break\n",
    "                x_section_value = float(line[index:])\n",
    "    return x_section_value\n",
    "\n",
    "\n",
    "def get_sensitivity(mass, g_e, x_section):\n",
    "    \"\"\"Calculate the total number of signal events, given the probability for\n",
    "    a single X particle to decay inside the volume.\n",
    "    Open angle cuts is applied here.\"\"\"\n",
    "    rescaled_number = x_section * luminosity * (g_e ** 2)\n",
    "    avg_probability = 0\n",
    "    for i in range(len(X_list)):\n",
    "        E = X_list[i][0]\n",
    "        p = X_list[i][1]\n",
    "        theta = X_list[i][2]\n",
    "        open_angle = 2.0 * mass / E\n",
    "        if open_angle >= angle_cut:\n",
    "            avg_probability += probability(p, theta, mass, g_e)\n",
    "    sensitivity = (avg_probability / 10000.0) * rescaled_number\n",
    "    return sensitivity"
   ]
  },
  {
   "cell_type": "code",
   "execution_count": 22,
   "metadata": {
    "collapsed": false,
    "jupyter": {
     "outputs_hidden": false
    },
    "tags": []
   },
   "outputs": [],
   "source": [
    "X_list=[]\n",
    "for event in chain:\n",
    "    for particle in event.Particle:\n",
    "        if particle.PID==103:\n",
    "            E_X=particle.E\n",
    "            p_X=np.sqrt(particle.E**2-particle.M**2)\n",
    "            X_vector=r.TLorentzVector()\n",
    "            X_vector.SetPtEtaPhiM(particle.PT, particle.Eta, particle.Phi, particle.M)\n",
    "            theta_X=X_vector.Theta()\n",
    "            X_list.append([E_X, p_X, theta_X])"
   ]
  },
  {
   "cell_type": "code",
   "execution_count": 24,
   "metadata": {
    "collapsed": false,
    "jupyter": {
     "outputs_hidden": false
    }
   },
   "outputs": [
    {
     "name": "stdout",
     "output_type": "stream",
     "text": [
      "2.0263599608057676\n"
     ]
    }
   ],
   "source": [
    "g_e=2.0e-06\n",
    "sensitivity=get_sensitivity(0.01,g_e,x_sec)\n",
    "print(sensitivity)"
   ]
  },
  {
   "cell_type": "code",
   "execution_count": 34,
   "metadata": {
    "collapsed": false,
    "jupyter": {
     "outputs_hidden": false
    }
   },
   "outputs": [
    {
     "data": {
      "text/plain": [
       "18.567574851909203"
      ]
     },
     "execution_count": 34,
     "metadata": {},
     "output_type": "execute_result"
    }
   ],
   "source": [
    "distance(1,0.01,2.0e-06)"
   ]
  },
  {
   "cell_type": "code",
   "execution_count": 37,
   "metadata": {
    "collapsed": false,
    "jupyter": {
     "outputs_hidden": false
    }
   },
   "outputs": [
    {
     "data": {
      "text/plain": [
       "0.006702332660781945"
      ]
     },
     "execution_count": 37,
     "metadata": {},
     "output_type": "execute_result"
    }
   ],
   "source": [
    "probability(1,0.0,0.01,2.0e-06)"
   ]
  },
  {
   "cell_type": "code",
   "execution_count": 58,
   "metadata": {
    "collapsed": false,
    "jupyter": {
     "outputs_hidden": false
    }
   },
   "outputs": [
    {
     "ename": "AttributeError",
     "evalue": "'Figure' object has no attribute 'xscale'",
     "output_type": "error",
     "traceback": [
      "\u001b[0;31m---------------------------------------------------------------------------\u001b[0m",
      "\u001b[0;31mAttributeError\u001b[0m                            Traceback (most recent call last)",
      "\u001b[0;32m<ipython-input-58-670e5bb703a6>\u001b[0m in \u001b[0;36m<module>\u001b[0;34m\u001b[0m\n\u001b[1;32m      9\u001b[0m \u001b[0mlogbins\u001b[0m\u001b[0;34m=\u001b[0m\u001b[0mnp\u001b[0m\u001b[0;34m.\u001b[0m\u001b[0mlogspace\u001b[0m\u001b[0;34m(\u001b[0m\u001b[0mnp\u001b[0m\u001b[0;34m.\u001b[0m\u001b[0mlog10\u001b[0m\u001b[0;34m(\u001b[0m\u001b[0mbins\u001b[0m\u001b[0;34m[\u001b[0m\u001b[0;36m0\u001b[0m\u001b[0;34m]\u001b[0m\u001b[0;34m)\u001b[0m\u001b[0;34m,\u001b[0m\u001b[0mnp\u001b[0m\u001b[0;34m.\u001b[0m\u001b[0mlog10\u001b[0m\u001b[0;34m(\u001b[0m\u001b[0mbins\u001b[0m\u001b[0;34m[\u001b[0m\u001b[0;34m-\u001b[0m\u001b[0;36m1\u001b[0m\u001b[0;34m]\u001b[0m\u001b[0;34m)\u001b[0m\u001b[0;34m,\u001b[0m\u001b[0mlen\u001b[0m\u001b[0;34m(\u001b[0m\u001b[0mbins\u001b[0m\u001b[0;34m)\u001b[0m\u001b[0;34m)\u001b[0m\u001b[0;34m\u001b[0m\u001b[0;34m\u001b[0m\u001b[0m\n\u001b[1;32m     10\u001b[0m \u001b[0mfig\u001b[0m\u001b[0;34m=\u001b[0m\u001b[0mplt\u001b[0m\u001b[0;34m.\u001b[0m\u001b[0mfigure\u001b[0m\u001b[0;34m(\u001b[0m\u001b[0;34m)\u001b[0m\u001b[0;34m\u001b[0m\u001b[0;34m\u001b[0m\u001b[0m\n\u001b[0;32m---> 11\u001b[0;31m \u001b[0mfig\u001b[0m\u001b[0;34m.\u001b[0m\u001b[0mxscale\u001b[0m\u001b[0;34m(\u001b[0m\u001b[0;34m'log'\u001b[0m\u001b[0;34m)\u001b[0m\u001b[0;34m\u001b[0m\u001b[0;34m\u001b[0m\u001b[0m\n\u001b[0m\u001b[1;32m     12\u001b[0m \u001b[0mplt\u001b[0m\u001b[0;34m.\u001b[0m\u001b[0mhist\u001b[0m\u001b[0;34m(\u001b[0m\u001b[0mp_list\u001b[0m\u001b[0;34m,\u001b[0m \u001b[0mbins\u001b[0m\u001b[0;34m=\u001b[0m\u001b[0mlogbins\u001b[0m\u001b[0;34m)\u001b[0m\u001b[0;34m\u001b[0m\u001b[0;34m\u001b[0m\u001b[0m\n\u001b[1;32m     13\u001b[0m \u001b[0mplt\u001b[0m\u001b[0;34m.\u001b[0m\u001b[0mylim\u001b[0m\u001b[0;34m(\u001b[0m\u001b[0;34m[\u001b[0m\u001b[0;36m0\u001b[0m\u001b[0;34m,\u001b[0m\u001b[0;36m1000\u001b[0m\u001b[0;34m]\u001b[0m\u001b[0;34m)\u001b[0m\u001b[0;34m\u001b[0m\u001b[0;34m\u001b[0m\u001b[0m\n",
      "\u001b[0;31mAttributeError\u001b[0m: 'Figure' object has no attribute 'xscale'"
     ]
    },
    {
     "data": {
      "text/plain": [
       "<Figure size 432x288 with 0 Axes>"
      ]
     },
     "metadata": {},
     "output_type": "display_data"
    }
   ],
   "source": [
    "p_list = []\n",
    "for event in chain:\n",
    "    for particle in event.Particle:\n",
    "        if particle.PID==103:\n",
    "            X_p = np.sqrt(particle.E**2-0.01**2)\n",
    "            p_list.append(X_p)\n",
    "p_list=np.array(p_list)\n",
    "hist, bins = np.histogram(p_list)\n",
    "logbins=np.logspace(np.log10(bins[0]),np.log10(bins[-1]),len(bins))\n"
   ]
  },
  {
   "cell_type": "code",
   "execution_count": 52,
   "metadata": {
    "collapsed": false,
    "jupyter": {
     "outputs_hidden": false
    }
   },
   "outputs": [
    {
     "data": {
      "text/plain": [
       "array([9.76778182e-02, 1.18743710e+01, 2.36510642e+01, 3.54277575e+01,\n",
       "       4.72044507e+01, 5.89811439e+01, 7.07578371e+01, 8.25345303e+01,\n",
       "       9.43112235e+01, 1.06087917e+02, 1.17864610e+02])"
      ]
     },
     "execution_count": 52,
     "metadata": {},
     "output_type": "execute_result"
    }
   ],
   "source": [
    "bins"
   ]
  },
  {
   "cell_type": "code",
   "execution_count": 1,
   "metadata": {
    "collapsed": false,
    "jupyter": {
     "outputs_hidden": false
    }
   },
   "outputs": [],
   "source": [
    "import numpy as np\n"
   ]
  },
  {
   "cell_type": "code",
   "execution_count": null,
   "metadata": {
    "collapsed": false,
    "jupyter": {
     "outputs_hidden": false
    }
   },
   "outputs": [],
   "source": []
  }
 ],
 "metadata": {
  "kernelspec": {
   "display_name": "Python 3",
   "language": "python",
   "name": "python3"
  },
  "language_info": {
   "codemirror_mode": {
    "name": "ipython",
    "version": 3
   },
   "file_extension": ".py",
   "mimetype": "text/x-python",
   "name": "python",
   "nbconvert_exporter": "python",
   "pygments_lexer": "ipython3",
   "version": "3.8.6"
  },
  "name": "leptonic_displaced.ipynb"
 },
 "nbformat": 4,
 "nbformat_minor": 4
}
