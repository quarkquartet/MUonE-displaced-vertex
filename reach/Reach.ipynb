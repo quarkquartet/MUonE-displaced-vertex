{
 "cells": [
  {
   "cell_type": "code",
   "execution_count": 1,
   "metadata": {},
   "outputs": [],
   "source": [
    "import pylhe\n",
    "import numpy as np\n",
    "import os\n",
    "import matplotlib.pyplot as plt"
   ]
  },
  {
   "cell_type": "code",
   "execution_count": 22,
   "metadata": {},
   "outputs": [],
   "source": [
    "l1=1.5*0.01 + 10*0.001\n",
    "l2 = 15.0*0.01 - 10*0.001\n",
    "m_e = 0.000511\n",
    "m_mu = 0.105\n",
    "angle_cut = 0.001\n",
    "meter = 1\n",
    "GeV = 1 / (1.97 * meter * 1.0e-16)\n",
    "Radius = 0.05\n",
    "E_cut = 5.0\n",
    "total_fixed_target_luminosity = 1.5*10**4\n",
    "ee = np.sqrt(4*np.pi/137)\n",
    "event_path = \"/Users/isaac/Work/MUonE-displaced-vertex/Signal/Events\""
   ]
  },
  {
   "cell_type": "code",
   "execution_count": 12,
   "metadata": {},
   "outputs": [],
   "source": [
    "def decay_rate(mass, g_e):\n",
    "    alpha_e = (g_e ** 2) / (4 * np.pi)\n",
    "    return (\n",
    "        alpha_e\n",
    "        * mass\n",
    "        * (1 + 2 * ((m_e ** 2) / (mass ** 2)))\n",
    "        * np.sqrt(1 - 4 * ((m_e ** 2) / (mass ** 2)))\n",
    "        * GeV\n",
    "        / 3\n",
    "    )\n",
    "\n",
    "\n",
    "def distance(momentum, mass, g_e):\n",
    "    return momentum / (decay_rate(mass, g_e) * mass)\n",
    "\n",
    "\n",
    "def read_x_section(mass):\n",
    "    \"\"\"Read the cross section from madgraph banner file\"\"\"\n",
    "    event_file_folder = \"/Users/isaac/Work/MUonE-displaced-vertex/Signal/Events\"\n",
    "    banner_file_subfolder = \"X_mass_\"+str(mass)\n",
    "    banner_file_name = \"X_mass_\"+ str(mass) + '_tag_1_banner.txt'\n",
    "    banner_file_path = os.path.join(event_file_folder,banner_file_subfolder, banner_file_name)\n",
    "    with open(banner_file_path) as banner_file:\n",
    "        for line in banner_file:\n",
    "            if line.startswith(\"#  Integrated weight (pb)\"):\n",
    "                for x in line:\n",
    "                    if x in [\"0\", \"1\", \"2\", \"3\", \"4\", \"5\", \"6\", \"7\", \"8\", \"9\"]:\n",
    "                        index = line.index(x)\n",
    "                        break\n",
    "                x_section_value = float(line[index:])\n",
    "    return x_section_value\n",
    "\n",
    "def angle_boost(theta, mass, energy):\n",
    "    \"\"\"theta angle of the decay products in the lab frame. Input the rest frame theta, dark photon masss and dark photon energy, we boost the angle theta angle of the decay product into the lab frame.\"\"\"\n",
    "    beta = np.sqrt(energy ** 2.0 - mass ** 2.0) / energy\n",
    "    gamma = energy / mass\n",
    "    pcom = np.sqrt(mass ** 2.0 - 4.0 * (m_e ** 2.0)) / 2.0\n",
    "    nominator = gamma * (pcom * np.cos(theta) + beta * mass / 2.0)\n",
    "    denominator = np.sqrt(\n",
    "        (pcom ** 2.0) * (np.sin(theta) ** 2.0)\n",
    "        + (gamma ** 2.0) * ((pcom * np.cos(theta) + beta * mass * 0.5) ** 2.0)\n",
    "    )\n",
    "    return np.arccos(nominator / denominator)\n",
    "\n",
    "\n",
    "def energy_boost(theta, mass, energy):\n",
    "    \"\"\"energy of the decay product in the lab frame. Input the rest frame theta, dark photon masss and dark photon energy, we boost the energy of the decay product into the lab frame. \"\"\"\n",
    "    beta = np.sqrt(energy ** 2.0 - mass ** 2.0) / energy\n",
    "    gamma = energy / mass\n",
    "    pcom = np.sqrt(mass ** 2.0 - 4.0 * (m_e ** 2.0)) / 2.0\n",
    "    return gamma * (0.5 * mass + beta * pcom * np.cos(theta))"
   ]
  },
  {
   "cell_type": "code",
   "execution_count": 38,
   "metadata": {},
   "outputs": [],
   "source": [
    "class LHEdataset:\n",
    "\n",
    "    def __init__(self, mA):\n",
    "        self.mA = mA\n",
    "        self.xsec = read_x_section(self.mA)\n",
    "        self.four_momentum = np.zeros((100000,3,4), dtype=\"float64\")\n",
    "        self.conv_data = np.zeros((100000,18), dtype = \"float64\")\n",
    "        self.event_file_folder = \"/Users/isaac/Work/MUonE-displaced-vertex/Signal/Events\"\n",
    "        self.lhe_file_subfolder = \"X_mass_\"+str(self.mA)\n",
    "        self.lhe_file_name = \"unweighted_events.lhe\"\n",
    "        self.lhereader = pylhe.readLHE(os.path.join(self.event_file_folder, self.lhe_file_subfolder, self.lhe_file_name))\n",
    "        self.read_lhe()\n",
    "        self.convert_4_momenta()\n",
    "\n",
    "    def read_lhe(self):\n",
    "        for ievent, event in enumerate(self.lhereader):\n",
    "            for particle in event.particles:\n",
    "                if particle.id == 103:\n",
    "                    self.four_momentum[ievent,0] = np.array([particle.e, particle.px, particle.py, particle.pz])\n",
    "                if particle.id == 13 and particle.status == 1:\n",
    "                    self.four_momentum[ievent,1] = np.array([particle.e, particle.px, particle.py, particle.pz])\n",
    "                if particle.id == 11 and particle.status == 1:\n",
    "                    self.four_momentum[ievent,2] = np.array([particle.e, particle.px, particle.py, particle.pz])\n",
    "                \n",
    "    def convert_4_momenta(self):\n",
    "        # dark photon e, p, theta, phi\n",
    "        self.conv_data[:,0] = self.four_momentum[:,0,0] # dark photon energy\n",
    "        self.conv_data[:,1] = np.linalg.norm(self.four_momentum[:,0,1:4], axis = 1) # dark photon p\n",
    "        self.conv_data[:,2] = np.arccos(self.four_momentum[:,0,3]/self.conv_data[:,1]) # dark photon theta\n",
    "        self.conv_data[:,3] = np.arctan2(self.four_momentum[:,0,2], self.four_momentum[:,0,1]) # drk photon phi\n",
    "\n",
    "        # muon e, p, theta, phi\n",
    "        self.conv_data[:,4] = self.four_momentum[:,1,0] # muon energy\n",
    "        self.conv_data[:,5] = np.linalg.norm(self.four_momentum[:,1,1:4], axis=1) # muon p\n",
    "        self.conv_data[:,6] = np.arccos(self.four_momentum[:,1,3]/self.conv_data[:,5]) # muon theta\n",
    "        self.conv_data[:,7] = np.arctan2(self.four_momentum[:,1,2], self.four_momentum[:,1,1]) # muon phi\n",
    "\n",
    "        # electron e, p, theta, phi\n",
    "        self.conv_data[:,8] = self.four_momentum[:,2,0] # electron energy\n",
    "        self.conv_data[:,9] = np.linalg.norm(self.four_momentum[:,2,1:4], axis=1) # electron p\n",
    "        self.conv_data[:,10] = np.arccos(self.four_momentum[:,2,3]/self.conv_data[:,9]) # electron theta\n",
    "        self.conv_data[:,11] = np.arctan2(self.four_momentum[:,2,2], self.four_momentum[:,2,1]) # electron phi\n",
    "\n",
    "        # simulation of decay products\n",
    "        theta_restframe = np.arccos(np.random.uniform(-1.0,1.0,size=(100000,))) # theta in rest frame\n",
    "        phi_restframe = np.random.uniform(-np.pi*0.5, np.pi*0.5, size=(100000,)) # phi in rest frame\n",
    "\n",
    "        # lab frame boost\n",
    "        self.conv_data[:,12] = angle_boost(theta_restframe, self.mA, self.conv_data[:,0]) # theta angle of decay product 1 in lab frame\n",
    "        self.conv_data[:,13] = energy_boost(theta_restframe, self.mA,self.conv_data[:,0]) # energy of decay product 1 in lab frame\n",
    "        self.conv_data[:,14] = angle_boost(theta_restframe + np.pi, self.mA, self.conv_data[:,0]) # theta angle of decay product 2 in lab frame\n",
    "        self.conv_data[:,15] = energy_boost(theta_restframe + np.pi, self.mA, self.conv_data[:,0]) # energy of decay product 2 in lab frame\n",
    "\n",
    "        # opening angle\n",
    "        self.conv_data[:,16] = self.conv_data[:,12] + self.conv_data[:,14] # opening angle between decay products\n",
    "\n",
    "        # phi in lab frame\n",
    "        self.conv_data[:,17] = phi_restframe # lab frame phi is the rest frame phi"
   ]
  },
  {
   "cell_type": "code",
   "execution_count": 44,
   "metadata": {},
   "outputs": [],
   "source": [
    "couplings = np.logspace(-6.0, -2.0, 30)\n",
    "mass_list = mass_list = np.logspace(np.log10(0.002), np.log10(0.2), 30).tolist()\n",
    "mass_list = [round(x, 4) for x in mass_list]"
   ]
  },
  {
   "cell_type": "code",
   "execution_count": 57,
   "metadata": {},
   "outputs": [],
   "source": [
    "egpoint = LHEdataset(0.0084)"
   ]
  },
  {
   "cell_type": "code",
   "execution_count": 55,
   "metadata": {},
   "outputs": [
    {
     "data": {
      "text/plain": [
       "100000"
      ]
     },
     "execution_count": 55,
     "metadata": {},
     "output_type": "execute_result"
    }
   ],
   "source": [
    "len(egpoint.four_momentum)"
   ]
  },
  {
   "cell_type": "code",
   "execution_count": 58,
   "metadata": {},
   "outputs": [],
   "source": [
    "coupling = 1.0e-04"
   ]
  },
  {
   "cell_type": "code",
   "execution_count": 59,
   "metadata": {},
   "outputs": [],
   "source": [
    "selection = ((egpoint.conv_data[:,2] <= Radius) & (egpoint.conv_data[:,13] >= E_cut)& (egpoint.conv_data[:,15] >= E_cut) & (egpoint.conv_data[:,16] >= angle_cut))"
   ]
  },
  {
   "cell_type": "code",
   "execution_count": 64,
   "metadata": {},
   "outputs": [],
   "source": [
    "egpass = egpoint.conv_data[selection]\n",
    "pass_data = np.zeros((len(egpass),7), dtype=\"float64\")\n",
    "pass_data[:,0] = egpass[:,1]\n",
    "pass_data[:,1] = egpass[:,2]\n",
    "pass_data[:,2] = distance(pass_data[:,0], 0.0084, coupling)\n",
    "AB = 1.0 - pass_data[:,2]\n",
    "BC = AB * egpass[:,12]\n",
    "pass_data[:,3] = BC\n",
    "BD = 1.0 * pass_data[:,1]\n",
    "BF = AB * egpass[:,14]\n",
    "pass_data[:,4] = BF\n",
    "phi_e = np.random.uniform(-np.pi*0.5, np.pi*0.5, size=(len(egpass),))\n",
    "sin_alpha = np.sin(phi_e) * BD/Radius\n",
    "alpha = np.arcsin(sin_alpha)\n",
    "BCmax = Radius * np.sin(phi_e - alpha)/np.sin(phi_e)\n",
    "BFmax = Radius * np.sin(phi_e + alpha)/np.sin(phi_e)\n",
    "pass_data[:,5] = BCmax\n",
    "pass_data[:,6] = BFmax\n",
    "selection_2 = ((pass_data[:,3] <= pass_data[:,5]) & (pass_data[:,4] <= pass_data[:,6]) & (l1 <= pass_data[:,2]) & (pass_data[:,2] <= l2))"
   ]
  },
  {
   "cell_type": "code",
   "execution_count": 65,
   "metadata": {},
   "outputs": [],
   "source": [
    "efficiency = float(len(pass_data[selection_2]))/100000.0\n",
    "sensitivity = read_x_section(0.0084) * total_fixed_target_luminosity * coupling**2 * efficiency"
   ]
  },
  {
   "cell_type": "code",
   "execution_count": 66,
   "metadata": {},
   "outputs": [
    {
     "name": "stdout",
     "output_type": "stream",
     "text": [
      "27.744385199999996\n"
     ]
    }
   ],
   "source": [
    "print(sensitivity)"
   ]
  },
  {
   "cell_type": "code",
   "execution_count": null,
   "metadata": {},
   "outputs": [],
   "source": []
  }
 ],
 "metadata": {
  "interpreter": {
   "hash": "c4f6be21fc92d2a00f9ca51bcfc707caddf6cb807b3396ca594a2548e90cdcf4"
  },
  "kernelspec": {
   "display_name": "Python 3.9.7 ('base')",
   "language": "python",
   "name": "python3"
  },
  "language_info": {
   "codemirror_mode": {
    "name": "ipython",
    "version": 3
   },
   "file_extension": ".py",
   "mimetype": "text/x-python",
   "name": "python",
   "nbconvert_exporter": "python",
   "pygments_lexer": "ipython3",
   "version": "3.9.7"
  },
  "orig_nbformat": 4
 },
 "nbformat": 4,
 "nbformat_minor": 2
}
