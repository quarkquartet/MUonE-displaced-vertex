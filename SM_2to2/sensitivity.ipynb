{
 "cells": [
  {
   "cell_type": "code",
   "execution_count": 1,
   "metadata": {},
   "outputs": [
    {
     "name": "stdout",
     "output_type": "stream",
     "text": [
      "Welcome to JupyROOT 6.22/00\n"
     ]
    }
   ],
   "source": [
    "import os\n",
    "import random\n",
    "\n",
    "import numpy as np\n",
    "import ROOT as r\n",
    "from matplotlib import pyplot as plt\n",
    "\n",
    "# ---------------------------------------------------------------------------\n",
    "# Import ROOT libraries for MadGraph generated rootfiles.\n",
    "# ---------------------------------------------------------------------------\n",
    "r.gROOT.ProcessLine('.include /Users/isaac/Work/MG5_aMC_v2_6_7')\n",
    "r.gInterpreter.Declare(\n",
    "    '#include \"/Users/isaac/Work/Delphes-3.4.2/external/ExRootAnalysis/ExRootTreeReader.h\"')\n",
    "r.gInterpreter.Declare(\n",
    "    '#include \"/Users/isaac/Work/MG5_aMC_v2_6_7/ExRootAnalysis/ExRootAnalysis/ExRootClasses.h\"'\n",
    ")\n",
    "r.gInterpreter.Declare(\n",
    "    '#include \"/Users/isaac/Work/MG5_aMC_v2_6_7/ExRootAnalysis/ExRootAnalysis/ExRootLHEFReader.h\"'\n",
    ")\n",
    "r.gSystem.Load(\n",
    "    \"/Users/isaac/Work/MG5_aMC_v2_6_7/ExRootAnalysis/libExRootAnalysis.so\")\n",
    "\n",
    "# ---------------------------------------------------------------------------\n",
    "# Set up environment\n",
    "# ---------------------------------------------------------------------------\n",
    "os.environ['TERM'] = 'linux'\n",
    "random.seed(1)"
   ]
  },
  {
   "cell_type": "code",
   "execution_count": 3,
   "metadata": {},
   "outputs": [
    {
     "data": {
      "text/plain": [
       "1"
      ]
     },
     "execution_count": 3,
     "metadata": {},
     "output_type": "execute_result"
    }
   ],
   "source": [
    "signal_chain = r.TChain(\"LHEF\")\n",
    "bg_chain=r.TChain(\"LHEF\")\n",
    "signal_chain.Add(\n",
    "    \"~/Work/MuonE/2to3sc/Events/nocut_0.1GeV/unweighted_events.root\")\n",
    "bg_chain.Add(\"~/Work/MuonE/SMmuegamma/Events/pt4_0.001_pta_0.001/unweighted_events.root\")"
   ]
  },
  {
   "cell_type": "code",
   "execution_count": 4,
   "metadata": {},
   "outputs": [],
   "source": [
    "def T(theta_e):\n",
    "    \"\"\"T: defined as $E_4 - m_e$.\"\"\"\n",
    "    t = 2 * 0.000511 / (((150 + 0.000511)**2) /\n",
    "                        ((np.cos(theta_e / 1000)**2) * (150**2 - 0.1057**2))\n",
    "                        - 1)\n",
    "    return t\n",
    "\n",
    "\n",
    "def theta_mu_theory(theta_e):\n",
    "    \"\"\"The expression for the theta_mu vs theta_e relation in SM 2 to 2\n",
    "    QED process\"\"\"\n",
    "    theta = 1000 * np.arctan((np.sqrt(T(theta_e) * (2 * 0.000511 + T(theta_e)))\n",
    "                              * np.sin(theta_e / 1000)) /\n",
    "                             (np.sqrt(150**2 - 0.1057**2)\n",
    "                              - np.sqrt(T(theta_e) * (2 * 0.000511 + T(theta_e))) * np.cos(theta_e / 1000)))\n",
    "    return theta\n",
    "\n",
    "\n",
    "# Generate variable and prepare for the plots.\n",
    "theta_mu2 = np.vectorize(theta_mu_theory)\n",
    "theta_e_variable = np.linspace(0, 30, 500)\n",
    "mu_variable = theta_mu2(theta_e_variable)"
   ]
  },
  {
   "cell_type": "code",
   "execution_count": 8,
   "metadata": {},
   "outputs": [],
   "source": [
    "luminosity = 1.5e+04  # Luminosity, which is 1.5 \\times 10^4 pb^-1\n",
    "signal_x_section = 248180.0  # Signal event cross section\n",
    "bg_x_section = 1500450770.0\n",
    "signal_above_curve_number = 0\n",
    "bg_above_curve_number = 0\n",
    "signal_theta_e_list = []\n",
    "signal_theta_mu_list = []\n",
    "bg_theta_e_list = []\n",
    "bg_theta_mu_list = []"
   ]
  },
  {
   "cell_type": "code",
   "execution_count": 9,
   "metadata": {},
   "outputs": [],
   "source": [
    "for event in signal_chain:\n",
    "    for particle in event.Particle:\n",
    "            # Pick out final state electron\n",
    "            if(particle.Status == 1 and particle.PID == 11):\n",
    "                electron_vector = r.TLorentzVector()  # electron 4-vector\n",
    "                pt4 = particle.PT  # electron pt\n",
    "                electron_vector.SetPtEtaPhiM(\n",
    "                    particle.PT, particle.Eta, particle.Phi, particle.M)\n",
    "                theta_e = electron_vector.Theta() * 1000  # theta_e\n",
    "            # Pick out final state muon\n",
    "            elif(particle.Status == 1 and particle.PID == 13):\n",
    "                muon_vector = r.TLorentzVector()  # muon 4-vector\n",
    "                muon_vector.SetPtEtaPhiM(\n",
    "                    particle.PT, particle.Eta, particle.Phi, particle.M)\n",
    "                theta_mu = muon_vector.Theta() * 1000  # theta_mu\n",
    "    \n",
    "    if(pt4 > 0.001 and theta_e <= 30):\n",
    "        signal_theta_e_list.append(theta_e)\n",
    "        signal_theta_mu_list.append(theta_mu)\n",
    "        if(theta_mu > theta_mu_theory(theta_e)):\n",
    "            signal_above_curve_number += 1"
   ]
  },
  {
   "cell_type": "code",
   "execution_count": 15,
   "metadata": {},
   "outputs": [
    {
     "name": "stdout",
     "output_type": "stream",
     "text": [
      "(2661, 0.2661, 990610470.0)\n"
     ]
    }
   ],
   "source": [
    "signal_efficiency = float(signal_above_curve_number) / 10000.0\n",
    "signal_rescaled_number = luminosity * signal_x_section * signal_efficiency\n",
    "print(signal_above_curve_number, signal_efficiency, signal_rescaled_number)"
   ]
  }
 ],
 "metadata": {
  "kernelspec": {
   "display_name": "Python 3",
   "language": "python",
   "name": "python3"
  },
  "language_info": {
   "codemirror_mode": {
    "name": "ipython",
    "version": 3
   },
   "file_extension": ".py",
   "mimetype": "text/x-python",
   "name": "python",
   "nbconvert_exporter": "python",
   "pygments_lexer": "ipython3",
   "version": "3.8.6"
  }
 },
 "nbformat": 4,
 "nbformat_minor": 4
}
