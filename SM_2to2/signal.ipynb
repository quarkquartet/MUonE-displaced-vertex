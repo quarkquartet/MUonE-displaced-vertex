{
 "metadata": {
  "language_info": {
   "codemirror_mode": {
    "name": "ipython",
    "version": 3
   },
   "file_extension": ".py",
   "mimetype": "text/x-python",
   "name": "python",
   "nbconvert_exporter": "python",
   "pygments_lexer": "ipython3",
   "version": "2.7.15-final"
  },
  "orig_nbformat": 2,
  "kernelspec": {
   "name": "python3",
   "display_name": "Python 2.7.15 64-bit ('py27': conda)",
   "metadata": {
    "interpreter": {
     "hash": "46ed04234cf7271b3857bdd2dd0927e2ee829bd0aa94ccbcb451188261d67ca0"
    }
   }
  }
 },
 "nbformat": 4,
 "nbformat_minor": 2,
 "cells": [
  {
   "source": [
    "# Signal Events Information\n",
    "\n",
    "Read the events file, which is generated using MadGraph-2.6.7 without any cuts."
   ],
   "cell_type": "markdown",
   "metadata": {}
  },
  {
   "cell_type": "code",
   "execution_count": 1,
   "metadata": {},
   "outputs": [
    {
     "output_type": "stream",
     "name": "stdout",
     "text": [
      "Welcome to JupyROOT 6.22/00\n"
     ]
    }
   ],
   "source": [
    "import os\n",
    "import random\n",
    "\n",
    "import numpy as np\n",
    "import ROOT as r\n",
    "from matplotlib import pyplot as plt\n",
    "r.gROOT.ProcessLine('.include /Users/isaac/Work/MG5_aMC_v2_6_7')\n",
    "r.gInterpreter.Declare(\n",
    "    '#include \"/Users/isaac/Work/Delphes-3.4.2/external/ExRootAnalysis/ExRootTreeReader.h\"')\n",
    "r.gInterpreter.Declare(\n",
    "    '#include \"/Users/isaac/Work/MG5_aMC_v2_6_7/ExRootAnalysis/ExRootAnalysis/ExRootClasses.h\"'\n",
    ")\n",
    "r.gInterpreter.Declare(\n",
    "    '#include \"/Users/isaac/Work/MG5_aMC_v2_6_7/ExRootAnalysis/ExRootAnalysis/ExRootLHEFReader.h\"'\n",
    ")\n",
    "r.gSystem.Load(\n",
    "    \"/Users/isaac/Work/MG5_aMC_v2_6_7/ExRootAnalysis/libExRootAnalysis.so\")\n",
    "\n",
    "os.environ['TERM'] = 'linux'\n",
    "random.seed(1)"
   ]
  },
  {
   "source": [
    "## Add rootfiles"
   ],
   "cell_type": "markdown",
   "metadata": {}
  },
  {
   "cell_type": "code",
   "execution_count": 14,
   "metadata": {},
   "outputs": [],
   "source": [
    "chain1 = r.TChain(\"LHEF\")\n",
    "chain1.Add(\"~/Work/MuonE/2to3sc/Events/nocut_0.001GeV/unweighted_events.root\")\n",
    "chain2 = r.TChain(\"LHEF\")\n",
    "chain2.Add(\"~/Work/MuonE/2to3sc/Events/nocut_0.005GeV/unweighted_events.root\")\n",
    "chain3 = r.TChain(\"LHEF\")\n",
    "chain3.Add(\"~/Work/MuonE/2to3sc/Events/nocut_0.01GeV/unweighted_events.root\")\n",
    "chain4 = r.TChain(\"LHEF\")\n",
    "chain4.Add(\"~/Work/MuonE/2to3sc/Events/nocut_0.05GeV/unweighted_events.root\")\n",
    "chain5 = r.TChain(\"LHEF\")\n",
    "chain5.Add(\"~/Work/MuonE/2to3sc/Events/nocut_0.1GeV/unweighted_events.root\")\n",
    "chainlist=[chain1, chain2, chain3, chain4, chain5]"
   ]
  },
  {
   "source": [
    "## Basic settings\n",
    "Here setup the luminosity, the cross section, and the elastic band."
   ],
   "cell_type": "markdown",
   "metadata": {}
  },
  {
   "cell_type": "code",
   "execution_count": 15,
   "metadata": {},
   "outputs": [],
   "source": [
    "x_section_list = [1.225e+07, 5.323e+06, 3.14e+06, 7.141e+05, 2.482e+05]\n",
    "luminosity=1.5e+04\n",
    "def T(theta_e):\n",
    "    \"\"\"T: defined as $E_4 - m_e$.\"\"\"\n",
    "    t = 2 * 0.000511 / (((150 + 0.000511)**2) /\n",
    "                        ((np.cos(theta_e / 1000)**2) * (150**2 - 0.1057**2))\n",
    "                        - 1)\n",
    "    return t\n",
    "\n",
    "\n",
    "def theta_mu_theory(theta_e):\n",
    "    \"\"\"The expression for the theta_mu vs theta_e relation in SM 2 to 2\n",
    "    QED process\"\"\"\n",
    "    theta = 1000 * np.arctan((np.sqrt(T(theta_e) * (2 * 0.000511 + T(theta_e)))\n",
    "                              * np.sin(theta_e / 1000)) /\n",
    "                             (np.sqrt(150**2 - 0.1057**2)\n",
    "                              - np.sqrt(T(theta_e)\n",
    "                                        * (2 * 0.000511 + T(theta_e)))\n",
    "                              * np.cos(theta_e / 1000)))\n",
    "    return theta"
   ]
  },
  {
   "source": [
    "## Loop over everything\n",
    "Loop over the files. For each file, we calculate no cuts, selection cuts, electron in ecal requirements and muon in ecal requirements. For the 40 targets at different positions, take average of them. "
   ],
   "cell_type": "markdown",
   "metadata": {}
  },
  {
   "cell_type": "code",
   "execution_count": 31,
   "metadata": {},
   "outputs": [
    {
     "output_type": "stream",
     "name": "stdout",
     "text": [
      "('no cuts: ', '1.84e+11')\n",
      "('our selection: ', '1.446112e+10')\n",
      "('our selection + electron in ecal: ', '2.26e+09')\n",
      "('our selection + eletron and muon in ecal:', '2.11e+09')\n",
      "('no cuts: ', '7.98e+10')\n",
      "('our selection: ', '7.641166e+09')\n",
      "('our selection + electron in ecal: ', '1.12e+09')\n",
      "('our selection + eletron and muon in ecal:', '1.06e+09')\n",
      "('no cuts: ', '4.71e+10')\n",
      "('our selection: ', '5.209260e+09')\n",
      "('our selection + electron in ecal: ', '7.80e+08')\n",
      "('our selection + eletron and muon in ecal:', '7.21e+08')\n",
      "('no cuts: ', '1.07e+10')\n",
      "('our selection: ', '1.782394e+09')\n",
      "('our selection + electron in ecal: ', '2.86e+08')\n",
      "('our selection + eletron and muon in ecal:', '2.66e+08')\n",
      "('no cuts: ', '3.72e+09')\n",
      "('our selection: ', '7.591197e+08')\n",
      "('our selection + electron in ecal: ', '1.36e+08')\n",
      "('our selection + eletron and muon in ecal:', '1.26e+08')\n"
     ]
    }
   ],
   "source": [
    "for i in range(5):\n",
    "    x_section = x_section_list[i]\n",
    "    chain=chainlist[i]\n",
    "    no_cuts = x_section * luminosity\n",
    "    no_cuts = \"{:.2e}\".format(no_cuts)\n",
    "    our_selection_number = 0\n",
    "    our_and_electron_number = 0\n",
    "    our_and_electron_and_muon_number = 0\n",
    "    for event in chain:\n",
    "        for particle in event.Particle:\n",
    "            if(particle.Status == 1 and particle.PID == 13):\n",
    "                muon_vector = r.TLorentzVector()  # muon 4-vector\n",
    "                muon_vector.SetPtEtaPhiM(particle.PT, particle.Eta, particle.Phi, particle.M)\n",
    "                theta_mu = muon_vector.Theta() * 1000 # theta_mu in mrad\n",
    "                phi_mu = muon_vector.Phi() # phi_mu in rad\n",
    "            elif(particle.Status == 1 and particle.PID == 11):\n",
    "                electron_vector = r.TLorentzVector()\n",
    "                electron_vector.SetPtEtaPhiM(particle.PT, particle.Eta, particle.Phi, particle.M)\n",
    "                theta_e = electron_vector.Theta() * 1000 # theta_e in mrad\n",
    "                phi_e = electron_vector.Phi()  # phi_e in rad\n",
    "                E_e = particle.E\n",
    "        if(E_e > 1.0 and theta_e <= 30.0 and theta_mu <= 5.0 and theta_mu > theta_mu_theory(theta_e) and abs(np.pi - abs(phi_e - phi_mu)) >= 3.5e-03):\n",
    "            our_selection_number += 1\n",
    "            for j in range(40):\n",
    "                if(float(j)*theta_e/1000 <= 0.05):\n",
    "                    our_and_electron_number += 1\n",
    "                    if(float(j)*theta_mu/1000 <= 0.05):\n",
    "                        our_and_electron_and_muon_number += 1\n",
    "\n",
    "    our_selection = float(our_selection_number) * x_section * luminosity/10000\n",
    "    our_selection = \"{:2e}\".format(our_selection)\n",
    "    our_and_electron = float(our_and_electron_number) * x_section * luminosity/400000\n",
    "    our_and_electron = \"{:.2e}\".format(our_and_electron)\n",
    "    our_and_electron_and_muon = float(our_and_electron_and_muon_number) * x_section * luminosity/400000\n",
    "    our_and_electron_and_muon = \"{:.2e}\".format(our_and_electron_and_muon)\n",
    "    print('no cuts: ', no_cuts)\n",
    "    print('our selection: ', our_selection)\n",
    "    print('our selection + electron in ecal: ', our_and_electron)\n",
    "    print('our selection + eletron and muon in ecal:', our_and_electron_and_muon)"
   ]
  }
 ]
}